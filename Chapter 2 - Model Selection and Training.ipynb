{
 "cells": [
  {
   "cell_type": "markdown",
   "metadata": {},
   "source": [
    "# Chapter 2 - Model Selection and Training\n",
    "Guilherme de Oliveira <br>\n",
    "8/30/2016"
   ]
  },
  {
   "cell_type": "markdown",
   "metadata": {},
   "source": [
    "## Introduction\n",
    "\n",
    "In Chapter 2 we will work on the classification model of the US Census data that was analyzed in Chapter 1. My biggest interest in modelling will be dealing with the class imbalance of the target variable. In particular, I am interested in the following aspects:\n",
    "<ul>\n",
    "<li> How best to assess the accuracy of the classifier. It is unlikely that accuracy will suffice, because of the [accuracy paradox](https://en.wikipedia.org/wiki/Accuracy_paradox).\n",
    "<li> What are some approaches that we can use to deal with the class imbalance? Examples include oversampling, undersampling, incorporating clustering algorithms, etc...\n",
    "</ul>\n",
    "<br>\n",
    "<br>\n",
    "<br>\n",
    "# This is a work in progress. Stay tuned for more...\n",
    "<br>\n",
    "<br>\n",
    "<br>\n"
   ]
  },
  {
   "cell_type": "code",
   "execution_count": 1,
   "metadata": {
    "collapsed": true
   },
   "outputs": [],
   "source": [
    "import pandas as pd\n",
    "import numpy as np\n",
    "from matplotlib import pyplot as plt\n",
    "import seaborn as sns\n",
    "\n",
    "from sklearn.cross_validation import train_test_split\n",
    "from sklearn.ensemble import RandomForestClassifier\n",
    "from sklearn.metrics import accuracy_score\n"
   ]
  },
  {
   "cell_type": "markdown",
   "metadata": {},
   "source": [
    "## Preprocessing Data"
   ]
  },
  {
   "cell_type": "code",
   "execution_count": 2,
   "metadata": {
    "collapsed": true
   },
   "outputs": [],
   "source": [
    "# preprocessing function\n",
    "\n",
    "def preprocessData(file_name):\n",
    "    # columns stores tuples of (column_name, continuous/nominal/target, prefix for dummy encoding)\n",
    "    columns  = [('age', 'continuous', 'age'), \n",
    "            ('class_of_worker', 'nominal', 'class_of_worker'), \n",
    "            ('detailed_industry_code', 'nominal', 'det_ind_code'), \n",
    "            ('detailed_occupation_code', 'nominal', 'det_occ_code'), \n",
    "            ('education', 'nominal', 'edu'), \n",
    "            ('wage_per_hour', 'continuous'), \n",
    "            ('enrolled_in_education_last_week', 'nominal', 'edu_last_week'),\n",
    "            ('marital_status', 'nominal', 'marital_status'),\n",
    "            ('major_industry_code', 'nominal', 'maj_ind_code'),\n",
    "            ('major_occupation_code', 'nominal', 'maj_ocptn_code'),\n",
    "            ('race', 'nominal', 'race'),\n",
    "            ('hispanic_origin', 'nominal', 'hisp_orgn'),\n",
    "            ('sex', 'nominal', 'sex'),\n",
    "            ('member_of_labor_union', 'nominal', 'member_of_lbr_un'), \n",
    "            ('reason_for_unemployment', 'nominal', 'reason_for_unmplymnt'),\n",
    "            ('full_or_part_time_employment_stat', 'nominal', 'ft_or_pt_emplymnt_stat'),\n",
    "            ('capital_gains', 'continuous'),\n",
    "            ('capital_losses', 'continuous'),\n",
    "            ('dividends', 'continuous'),\n",
    "            ('tax_filer', 'nominal', 'tax_filer'),\n",
    "            ('region_of_previous_residence', 'nominal', 'region_pa'),\n",
    "            ('state_of_previous_residence', 'nominal', 'state_pa'),\n",
    "            ('detailed_household_family_stat', 'nominal', 'det_hse_fam_state'),\n",
    "            ('detailed_household_summary', 'nominal', 'det_hse_summary'),\n",
    "            ('instance_weight', 'continuous'),\n",
    "            ('migration_code_change_in_msa', 'nominal', 'migr_code_msa'),\n",
    "            ('migration_code_change_in_reg', 'nominal', 'migr_code_reg'),\n",
    "            ('migration_code_move_within_reg', 'nominal', 'migr_code_move'),\n",
    "            ('live_in_this_house_1_yr_ago', 'nominal', 'live_in_house_1_yr_ago'),\n",
    "            ('migration_prev_res_in_sunbelt', 'nominal', 'migr_prev_res_sunbelt'),\n",
    "            ('num_persons_worked_for_employer', 'continuous'),\n",
    "            ('family_members_under_18', 'nominal', 'family_under_18'),\n",
    "            ('cob_father', 'nominal', 'cob_father'),\n",
    "            ('cob_mother', 'nominal', 'cob_mother'),\n",
    "            ('cob_self', 'nominal', 'cob_self'),\n",
    "            ('citizenship', 'nominal', 'citizenship'),\n",
    "            ('own_business_or_self_employed', 'nominal', 'owner_or_se'),\n",
    "            ('fill_in_questionnaire_for_veterans_admin', 'nominal', 'veterans_admin'),\n",
    "            ('veterans_benefits', 'nominal', 'veterans_benefits'),\n",
    "            ('weeks_worked_in_year', 'nominal', 'weeks_worked_in_yr'),\n",
    "            ('year', 'nominal', 'year'),\n",
    "            ('savings','target'),]\n",
    "    raw_data = pd.read_csv(file_name, names=[c[0] for c in columns], index_col=False)\n",
    "    original_shape = raw_data.shape\n",
    "    \n",
    "    raw_data.drop('instance_weight', axis=1, inplace=True)\n",
    "    columns.remove(('instance_weight', 'continuous'))\n",
    "    \n",
    "    # find the duplicate rows, keep the first one\n",
    "    duplicate_rows = raw_data.duplicated(keep='first')\n",
    "    \n",
    "    print 'number of duplicates = {:d}'.format(duplicate_rows.sum())\n",
    "    raw_data = raw_data.drop_duplicates(keep='first')\n",
    "    new_shape =  raw_data.shape\n",
    "    print 'number of duplicates removed = {:d}'.format(original_shape[0] - new_shape[0])\n",
    "    print 'new shape = {:d}, {:d}'.format(raw_data.shape[0], raw_data.shape[1])\n",
    "\n",
    "    return raw_data\n",
    "\n"
   ]
  },
  {
   "cell_type": "code",
   "execution_count": null,
   "metadata": {
    "collapsed": false
   },
   "outputs": [],
   "source": []
  },
  {
   "cell_type": "code",
   "execution_count": null,
   "metadata": {
    "collapsed": true
   },
   "outputs": [],
   "source": []
  },
  {
   "cell_type": "code",
   "execution_count": null,
   "metadata": {
    "collapsed": false
   },
   "outputs": [],
   "source": [
    "\n",
    "\n"
   ]
  },
  {
   "cell_type": "code",
   "execution_count": null,
   "metadata": {
    "collapsed": true
   },
   "outputs": [],
   "source": []
  }
 ],
 "metadata": {
  "kernelspec": {
   "display_name": "Python 2",
   "language": "python",
   "name": "python2"
  },
  "language_info": {
   "codemirror_mode": {
    "name": "ipython",
    "version": 2
   },
   "file_extension": ".py",
   "mimetype": "text/x-python",
   "name": "python",
   "nbconvert_exporter": "python",
   "pygments_lexer": "ipython2",
   "version": "2.7.11"
  }
 },
 "nbformat": 4,
 "nbformat_minor": 0
}
