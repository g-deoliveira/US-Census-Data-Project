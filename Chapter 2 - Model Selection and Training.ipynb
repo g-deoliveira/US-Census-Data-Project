{
 "cells": [
  {
   "cell_type": "markdown",
   "metadata": {},
   "source": [
    "# Chapter 2 - Model Selection and Training\n",
    "Guilherme de Oliveira <br>\n",
    "8/30/2016"
   ]
  },
  {
   "cell_type": "markdown",
   "metadata": {},
   "source": [
    "## Introduction\n",
    "\n",
    "In Chapter 2 we will work on the classification model of the US Census data that was analyzed in Chapter 1. My biggest interest in modelling will be dealing with the class imbalance of the target variable. In particular, I am interested in the following aspects:\n",
    "<ul>\n",
    "<li> How best to assess the accuracy of the classifier. It is unlikely that accuracy will suffice, because of the [accuracy paradox](https://en.wikipedia.org/wiki/Accuracy_paradox).\n",
    "<li> What are some approaches that we can use to deal with the class imbalance? Examples include oversampling, undersampling, incorporating clustering algorithms, etc...\n",
    "</ul>\n",
    "<br>\n",
    "<br>\n",
    "<br>\n",
    "# This is a work in progress. Stay tuned for more...\n",
    "<br>\n",
    "<br>\n",
    "<br>\n"
   ]
  },
  {
   "cell_type": "code",
   "execution_count": 1,
   "metadata": {
    "collapsed": true
   },
   "outputs": [],
   "source": [
    "import pandas as pd\n",
    "import numpy as np\n",
    "from matplotlib import pyplot as plt\n",
    "import seaborn as sns\n",
    "\n",
    "from sklearn.cross_validation import train_test_split\n",
    "from sklearn.ensemble import RandomForestClassifier\n",
    "from sklearn.metrics import accuracy_score\n",
    "\n",
    "%matplotlib inline"
   ]
  },
  {
   "cell_type": "markdown",
   "metadata": {},
   "source": [
    "## Preprocessing Data"
   ]
  },
  {
   "cell_type": "code",
   "execution_count": 2,
   "metadata": {
    "collapsed": true
   },
   "outputs": [],
   "source": [
    "# preprocessing function\n",
    "\n",
    "def preprocessData(file_name):\n",
    "    # columns stores tuples of (column_name, continuous/nominal/target, prefix for dummy encoding)\n",
    "    the_columns  = [('age', 'continuous'), \n",
    "            ('class_of_worker', 'nominal'), \n",
    "            ('detailed_industry_code', 'nominal'), \n",
    "            ('detailed_occupation_code', 'nominal'), \n",
    "            ('education', 'nominal'), \n",
    "            ('wage_per_hour', 'continuous'), \n",
    "            ('enrolled_in_edu_last_week', 'nominal'),\n",
    "            ('marital_status', 'nominal'),\n",
    "            ('major_industry_code', 'nominal'),\n",
    "            ('major_occupation_code', 'nominal'),\n",
    "            ('race', 'nominal'),\n",
    "            ('hispanic_origin', 'nominal'),\n",
    "            ('sex', 'binary'), # binary column with values Male/Female\n",
    "            ('member_of_labor_union', 'nominal'), \n",
    "            ('reason_for_unemployment', 'nominal'),\n",
    "            ('full_or_part_time_employment_stat', 'nominal'),\n",
    "            ('capital_gains', 'continuous'),\n",
    "            ('capital_losses', 'continuous'),\n",
    "            ('dividends', 'continuous'),\n",
    "            ('tax_filer', 'nominal'),\n",
    "            ('region_of_previous_residence', 'nominal'),\n",
    "            ('state_of_previous_residence', 'nominal'),\n",
    "            ('detailed_household_family_stat', 'nominal'),\n",
    "            ('detailed_household_summary', 'nominal'),\n",
    "            ('instance_weight', 'IGNORE'), # as per instructions, to be dropped\n",
    "            ('migration_code_change_in_msa', 'nominal'),\n",
    "            ('migration_code_change_in_reg', 'nominal'),\n",
    "            ('migration_code_move_within_reg', 'nominal'),\n",
    "            ('live_in_this_house_1_yr_ago', 'nominal'),\n",
    "            ('migration_prev_res_in_sunbelt', 'nominal'),\n",
    "            ('num_persons_worked_for_employer', 'continuous'),\n",
    "            ('family_members_under_18', 'nominal'),\n",
    "            ('cob_father', 'nominal'),\n",
    "            ('cob_mother', 'nominal'),\n",
    "            ('cob_self', 'nominal'),\n",
    "            ('citizenship', 'nominal'),\n",
    "            ('own_business_or_self_employed', 'nominal'),\n",
    "            ('fill_in_questionnaire_for_veterans_admin', 'nominal'),\n",
    "            ('veterans_benefits', 'nominal'),\n",
    "            ('weeks_worked_in_year', 'nominal'),\n",
    "            ('year', 'nominal'), \n",
    "            ('savings','target')] # binary TARGET variable\n",
    "    \n",
    "    raw_data = pd.read_csv(file_name, names=[c[0] for c in the_columns], index_col=False)\n",
    "    original_shape = raw_data.shape\n",
    "    \n",
    "    raw_data.drop('instance_weight', axis=1, inplace=True)\n",
    "    the_columns.remove(('instance_weight', 'IGNORE'))\n",
    "    \n",
    "    # find the duplicate rows, keep the first one\n",
    "    duplicate_rows = raw_data.duplicated(keep='first')\n",
    "    \n",
    "    print 'number of duplicates = {:d}'.format(duplicate_rows.sum())\n",
    "    raw_data = raw_data.drop_duplicates(keep='first')\n",
    "    new_shape =  raw_data.shape\n",
    "    print 'number of duplicates removed = {:d}'.format(original_shape[0] - new_shape[0])\n",
    "    print 'original shape = {:d}, {:d}'.format(original_shape[0], original_shape[1])\n",
    "    print 'new shape = {:d}, {:d}'.format(raw_data.shape[0], raw_data.shape[1])\n",
    "    \n",
    "    # convert nominal columns (object dtype) to integer type\n",
    "    data = pd.DataFrame(raw_data.select_dtypes(include=['object']))\n",
    "    object_columns = data.columns\n",
    "    \n",
    "    for column in object_columns:\n",
    "        unique_values = data[column].unique()\n",
    "        dictionary = {key:idx for idx,key in enumerate(unique_values)}\n",
    "        data[column] = data[column].apply(lambda x : dictionary[x])\n",
    "    \n",
    "    # add nominal columns that were already in integer format \n",
    "    nominal_integer_columns = [c[0] for c in the_columns if c[1] == 'nominal' and c[0] not in data.columns]\n",
    "    data[nominal_integer_columns] = raw_data[nominal_integer_columns]\n",
    "    \n",
    "    # convert 'sex', and 'savings' columns to binary; add year column\n",
    "    data['savings'] = raw_data['savings'].map(lambda x: 1 if str(x).strip() == '50000+.' else 0)\n",
    "    data['sex'] = raw_data['sex'].map(lambda x: 1 if str(x).strip() == 'Male' else 0)\n",
    "    data['year'] = raw_data['year']\n",
    "    \n",
    "    # add continuous columns\n",
    "    continuous_columns = [c[0] for c in the_columns if c[1] == 'continuous']\n",
    "    data[continuous_columns] = raw_data[continuous_columns]\n",
    "    \n",
    "    # verify that we aren't missing any columns\n",
    "    assert set(data.columns) == (set(raw_data.columns))\n",
    "\n",
    "    print 'The final processed data has {:,d} rows and {:d} columns.\\n'.format(data.shape[0], data.shape[1])\n",
    "    return data\n"
   ]
  },
  {
   "cell_type": "code",
   "execution_count": 3,
   "metadata": {
    "collapsed": false
   },
   "outputs": [
    {
     "name": "stdout",
     "output_type": "stream",
     "text": [
      "number of duplicates = 46627\n",
      "number of duplicates removed = 46627\n",
      "original shape = 199523, 42\n",
      "new shape = 152896, 41\n",
      "The final processed data has 152,896 rows and 41 columns.\n",
      "\n"
     ]
    }
   ],
   "source": [
    "data = preprocessData('us_census_full/census_income_learn.csv')"
   ]
  },
  {
   "cell_type": "code",
   "execution_count": 4,
   "metadata": {
    "collapsed": false
   },
   "outputs": [
    {
     "data": {
      "text/html": [
       "<div>\n",
       "<table border=\"1\" class=\"dataframe\">\n",
       "  <thead>\n",
       "    <tr style=\"text-align: right;\">\n",
       "      <th></th>\n",
       "      <th>class_of_worker</th>\n",
       "      <th>education</th>\n",
       "      <th>enrolled_in_edu_last_week</th>\n",
       "      <th>marital_status</th>\n",
       "      <th>major_industry_code</th>\n",
       "      <th>major_occupation_code</th>\n",
       "      <th>race</th>\n",
       "      <th>hispanic_origin</th>\n",
       "      <th>sex</th>\n",
       "      <th>member_of_labor_union</th>\n",
       "      <th>...</th>\n",
       "      <th>own_business_or_self_employed</th>\n",
       "      <th>veterans_benefits</th>\n",
       "      <th>weeks_worked_in_year</th>\n",
       "      <th>year</th>\n",
       "      <th>age</th>\n",
       "      <th>wage_per_hour</th>\n",
       "      <th>capital_gains</th>\n",
       "      <th>capital_losses</th>\n",
       "      <th>dividends</th>\n",
       "      <th>num_persons_worked_for_employer</th>\n",
       "    </tr>\n",
       "  </thead>\n",
       "  <tbody>\n",
       "    <tr>\n",
       "      <th>0</th>\n",
       "      <td>0</td>\n",
       "      <td>0</td>\n",
       "      <td>0</td>\n",
       "      <td>0</td>\n",
       "      <td>0</td>\n",
       "      <td>0</td>\n",
       "      <td>0</td>\n",
       "      <td>0</td>\n",
       "      <td>0</td>\n",
       "      <td>0</td>\n",
       "      <td>...</td>\n",
       "      <td>0</td>\n",
       "      <td>2</td>\n",
       "      <td>0</td>\n",
       "      <td>95</td>\n",
       "      <td>73</td>\n",
       "      <td>0</td>\n",
       "      <td>0</td>\n",
       "      <td>0</td>\n",
       "      <td>0</td>\n",
       "      <td>0</td>\n",
       "    </tr>\n",
       "    <tr>\n",
       "      <th>1</th>\n",
       "      <td>1</td>\n",
       "      <td>1</td>\n",
       "      <td>0</td>\n",
       "      <td>1</td>\n",
       "      <td>1</td>\n",
       "      <td>1</td>\n",
       "      <td>0</td>\n",
       "      <td>0</td>\n",
       "      <td>1</td>\n",
       "      <td>0</td>\n",
       "      <td>...</td>\n",
       "      <td>0</td>\n",
       "      <td>2</td>\n",
       "      <td>52</td>\n",
       "      <td>94</td>\n",
       "      <td>58</td>\n",
       "      <td>0</td>\n",
       "      <td>0</td>\n",
       "      <td>0</td>\n",
       "      <td>0</td>\n",
       "      <td>1</td>\n",
       "    </tr>\n",
       "    <tr>\n",
       "      <th>2</th>\n",
       "      <td>0</td>\n",
       "      <td>2</td>\n",
       "      <td>1</td>\n",
       "      <td>2</td>\n",
       "      <td>0</td>\n",
       "      <td>0</td>\n",
       "      <td>1</td>\n",
       "      <td>0</td>\n",
       "      <td>0</td>\n",
       "      <td>0</td>\n",
       "      <td>...</td>\n",
       "      <td>0</td>\n",
       "      <td>2</td>\n",
       "      <td>0</td>\n",
       "      <td>95</td>\n",
       "      <td>18</td>\n",
       "      <td>0</td>\n",
       "      <td>0</td>\n",
       "      <td>0</td>\n",
       "      <td>0</td>\n",
       "      <td>0</td>\n",
       "    </tr>\n",
       "  </tbody>\n",
       "</table>\n",
       "<p>3 rows × 41 columns</p>\n",
       "</div>"
      ],
      "text/plain": [
       "   class_of_worker  education  enrolled_in_edu_last_week  marital_status  \\\n",
       "0                0          0                          0               0   \n",
       "1                1          1                          0               1   \n",
       "2                0          2                          1               2   \n",
       "\n",
       "   major_industry_code  major_occupation_code  race  hispanic_origin  sex  \\\n",
       "0                    0                      0     0                0    0   \n",
       "1                    1                      1     0                0    1   \n",
       "2                    0                      0     1                0    0   \n",
       "\n",
       "   member_of_labor_union               ...                 \\\n",
       "0                      0               ...                  \n",
       "1                      0               ...                  \n",
       "2                      0               ...                  \n",
       "\n",
       "   own_business_or_self_employed  veterans_benefits  weeks_worked_in_year  \\\n",
       "0                              0                  2                     0   \n",
       "1                              0                  2                    52   \n",
       "2                              0                  2                     0   \n",
       "\n",
       "   year  age  wage_per_hour  capital_gains  capital_losses  dividends  \\\n",
       "0    95   73              0              0               0          0   \n",
       "1    94   58              0              0               0          0   \n",
       "2    95   18              0              0               0          0   \n",
       "\n",
       "   num_persons_worked_for_employer  \n",
       "0                                0  \n",
       "1                                1  \n",
       "2                                0  \n",
       "\n",
       "[3 rows x 41 columns]"
      ]
     },
     "execution_count": 4,
     "metadata": {},
     "output_type": "execute_result"
    }
   ],
   "source": [
    "data.head(3)"
   ]
  },
  {
   "cell_type": "markdown",
   "metadata": {},
   "source": [
    "## Split Data into Training and Test Sets for Cross Validation"
   ]
  },
  {
   "cell_type": "code",
   "execution_count": 5,
   "metadata": {
    "collapsed": false
   },
   "outputs": [
    {
     "name": "stdout",
     "output_type": "stream",
     "text": [
      "size of training data:  107027,  40\n",
      "size of test data:       45869,  40\n",
      "\n",
      "y_train==0:  98399,  y_train==1: 8628,  balance: 0.9194\n",
      "y_test==0:   42130,  y_test==1:  3739,  balance: 0.9185\n",
      "\n",
      "The training and test set appear to have the same degree of class imbalance.\n",
      "\n"
     ]
    }
   ],
   "source": [
    "# obtain training and test set for cross-validation\n",
    "X = data.drop('savings', axis=1)\n",
    "y = data.loc[:,'savings']\n",
    "\n",
    "X_train, X_test, y_train, y_test = train_test_split(X, y, test_size=0.3, random_state=0)\n",
    "print 'size of training data: {:7d}, {:3d}'.format(X_train.shape[0], X_train.shape[1])\n",
    "print 'size of test data:     {:7d}, {:3d}'.format(X_test.shape[0], X_test.shape[1])\n",
    "print\n",
    "ytr0, ytr1 = (y_train == 0).sum(), (y_train == 1).sum()\n",
    "yte0, yte1 = (y_test == 0).sum(), (y_test == 1).sum()\n",
    "print 'y_train==0: {:6d},  y_train==1: {:4d},  balance: {:.4f}'.format(\n",
    "    ytr0, ytr1, float(ytr0)/(ytr0+ytr1))\n",
    "print 'y_test==0:  {:6d},  y_test==1:  {:4d},  balance: {:.4f}'.format(\n",
    "    yte0, yte1, float(yte0)/(yte0+yte1))\n",
    "print '\\nThe training and test set appear to have the same degree of class imbalance.\\n'"
   ]
  },
  {
   "cell_type": "markdown",
   "metadata": {},
   "source": [
    "## Random Forest Model"
   ]
  },
  {
   "cell_type": "code",
   "execution_count": 6,
   "metadata": {
    "collapsed": true
   },
   "outputs": [],
   "source": [
    "from sklearn.grid_search import GridSearchCV\n",
    "from sklearn.metrics import confusion_matrix\n",
    "from sklearn.metrics import classification_report\n"
   ]
  },
  {
   "cell_type": "code",
   "execution_count": 17,
   "metadata": {
    "collapsed": false
   },
   "outputs": [],
   "source": [
    "def print_confusion_matrix(y_true, y_pred):\n",
    "    header = '\\t          prediction 0    prediction 1'\n",
    "    row0 =   '\\tclass 0 {:11,d} {:14,d}'\n",
    "    row1 =   '\\tclass 1 {:11,d} {:14,d}'\n",
    "    cm = confusion_matrix(y_true, y_pred)\n",
    "    print\n",
    "    print header\n",
    "    print row0.format(cm[0,0], cm[0,1])\n",
    "    print row1.format(cm[1,0], cm[1,1])\n",
    "    print\n",
    "    tp, fn = float(cm[0,0]), float(cm[0,1])\n",
    "    fp, tn = float(cm[1,0]), float(cm[1,1])\n",
    "#     print 'precision = {:.4f},  {:.4f}'.format(tp/(tp+fp), tn/(tn+fn))\n",
    "#     print 'recall =    {:.4f},  {:.4f}'.format(tp/(tp+fn), tn/(tn+fp))\n",
    "    \n",
    "\n",
    "    "
   ]
  },
  {
   "cell_type": "code",
   "execution_count": 8,
   "metadata": {
    "collapsed": false
   },
   "outputs": [],
   "source": [
    "def run_grid_search_on_random_forest(score=None, print_grid_scores=False):\n",
    "    \n",
    "    rf_clf = GridSearchCV(RandomForestClassifier(), \n",
    "                          tuned_parameters, \n",
    "                          scoring=score)\n",
    "    \n",
    "    rf_clf.fit(X_train, y_train)\n",
    "    y_true, y_pred = y_test, rf_clf.predict(X_test)\n",
    "    \n",
    "    print 'Best parameters set found on development set:'\n",
    "    print rf_clf.best_params_\n",
    "    print 'Best score = {:.4f}'.format(rf_clf.best_score_)\n",
    "    if print_grid_scores:\n",
    "        print '\\nGrid scores on development set:\\n'\n",
    "        for params, mean_score, scores in rf_clf.grid_scores_:\n",
    "            print(\"%0.4f (+/-%0.04f) for %r\"\n",
    "                  % (mean_score, scores.std() * 2, params))\n",
    "    print\n",
    "    print 'confusion matrix'\n",
    "    print_confusion_matrix(y_true, y_pred)\n",
    "    print\n",
    "    print '\\nDetailed classification report:\\n'\n",
    "    print classification_report(y_true, y_pred, digits=5)\n",
    "    print\n",
    "    return rf_clf"
   ]
  },
  {
   "cell_type": "code",
   "execution_count": 9,
   "metadata": {
    "collapsed": false
   },
   "outputs": [],
   "source": [
    "tuned_parameters = {'n_estimators': [20, 40], \n",
    "                    'max_depth': [6, None],\n",
    "                    'max_features' : ['sqrt', 40],\n",
    "                    'min_samples_split' : [1, 2]}"
   ]
  },
  {
   "cell_type": "code",
   "execution_count": 10,
   "metadata": {
    "collapsed": false
   },
   "outputs": [
    {
     "name": "stdout",
     "output_type": "stream",
     "text": [
      "Best parameters set found on development set:\n",
      "{'max_features': 'sqrt', 'min_samples_split': 1, 'n_estimators': 40, 'max_depth': None}\n",
      "Best score = 0.9398\n",
      "\n",
      "Grid scores on development set:\n",
      "\n",
      "0.9302 (+/-0.0009) for {'max_features': 'sqrt', 'min_samples_split': 1, 'n_estimators': 20, 'max_depth': 6}\n",
      "0.9294 (+/-0.0020) for {'max_features': 'sqrt', 'min_samples_split': 1, 'n_estimators': 40, 'max_depth': 6}\n",
      "0.9274 (+/-0.0036) for {'max_features': 'sqrt', 'min_samples_split': 2, 'n_estimators': 20, 'max_depth': 6}\n",
      "0.9301 (+/-0.0014) for {'max_features': 'sqrt', 'min_samples_split': 2, 'n_estimators': 40, 'max_depth': 6}\n",
      "0.9353 (+/-0.0011) for {'max_features': 40, 'min_samples_split': 1, 'n_estimators': 20, 'max_depth': 6}\n",
      "0.9349 (+/-0.0014) for {'max_features': 40, 'min_samples_split': 1, 'n_estimators': 40, 'max_depth': 6}\n",
      "0.9348 (+/-0.0010) for {'max_features': 40, 'min_samples_split': 2, 'n_estimators': 20, 'max_depth': 6}\n",
      "0.9349 (+/-0.0008) for {'max_features': 40, 'min_samples_split': 2, 'n_estimators': 40, 'max_depth': 6}\n",
      "0.9387 (+/-0.0013) for {'max_features': 'sqrt', 'min_samples_split': 1, 'n_estimators': 20, 'max_depth': None}\n",
      "0.9398 (+/-0.0020) for {'max_features': 'sqrt', 'min_samples_split': 1, 'n_estimators': 40, 'max_depth': None}\n",
      "0.9380 (+/-0.0015) for {'max_features': 'sqrt', 'min_samples_split': 2, 'n_estimators': 20, 'max_depth': None}\n",
      "0.9396 (+/-0.0013) for {'max_features': 'sqrt', 'min_samples_split': 2, 'n_estimators': 40, 'max_depth': None}\n",
      "0.9376 (+/-0.0016) for {'max_features': 40, 'min_samples_split': 1, 'n_estimators': 20, 'max_depth': None}\n",
      "0.9382 (+/-0.0016) for {'max_features': 40, 'min_samples_split': 1, 'n_estimators': 40, 'max_depth': None}\n",
      "0.9371 (+/-0.0014) for {'max_features': 40, 'min_samples_split': 2, 'n_estimators': 20, 'max_depth': None}\n",
      "0.9380 (+/-0.0017) for {'max_features': 40, 'min_samples_split': 2, 'n_estimators': 40, 'max_depth': None}\n",
      "\n",
      "confusion matrix\n",
      "\n",
      "\t          prediction 0    prediction 1\n",
      "\tclass 0      41,540            590\n",
      "\tclass 1       2,203          1,536\n",
      "\n",
      "\n",
      "\n",
      "Detailed classification report:\n",
      "\n",
      "             precision    recall  f1-score   support\n",
      "\n",
      "          0    0.94964   0.98600   0.96748     42130\n",
      "          1    0.72248   0.41081   0.52379      3739\n",
      "\n",
      "avg / total    0.93112   0.93911   0.93131     45869\n",
      "\n",
      "\n"
     ]
    }
   ],
   "source": [
    "rf_a = run_grid_search_on_random_forest('accuracy', print_grid_scores=True, verbose=1)"
   ]
  },
  {
   "cell_type": "code",
   "execution_count": 11,
   "metadata": {
    "collapsed": false
   },
   "outputs": [
    {
     "name": "stdout",
     "output_type": "stream",
     "text": [
      "Best parameters set found on development set:\n",
      "{'max_features': 'sqrt', 'min_samples_split': 2, 'n_estimators': 40, 'max_depth': 6}\n",
      "Best score = 0.9127\n",
      "\n",
      "Grid scores on development set:\n",
      "\n",
      "0.8844 (+/-0.0501) for {'max_features': 'sqrt', 'min_samples_split': 1, 'n_estimators': 20, 'max_depth': 6}\n",
      "0.8999 (+/-0.0433) for {'max_features': 'sqrt', 'min_samples_split': 1, 'n_estimators': 40, 'max_depth': 6}\n",
      "0.8843 (+/-0.0329) for {'max_features': 'sqrt', 'min_samples_split': 2, 'n_estimators': 20, 'max_depth': 6}\n",
      "0.9127 (+/-0.0234) for {'max_features': 'sqrt', 'min_samples_split': 2, 'n_estimators': 40, 'max_depth': 6}\n",
      "0.7304 (+/-0.0373) for {'max_features': 40, 'min_samples_split': 1, 'n_estimators': 20, 'max_depth': 6}\n",
      "0.7396 (+/-0.0235) for {'max_features': 40, 'min_samples_split': 1, 'n_estimators': 40, 'max_depth': 6}\n",
      "0.7333 (+/-0.0230) for {'max_features': 40, 'min_samples_split': 2, 'n_estimators': 20, 'max_depth': 6}\n",
      "0.7284 (+/-0.0226) for {'max_features': 40, 'min_samples_split': 2, 'n_estimators': 40, 'max_depth': 6}\n",
      "0.7238 (+/-0.0225) for {'max_features': 'sqrt', 'min_samples_split': 1, 'n_estimators': 20, 'max_depth': None}\n",
      "0.7239 (+/-0.0119) for {'max_features': 'sqrt', 'min_samples_split': 1, 'n_estimators': 40, 'max_depth': None}\n",
      "0.7130 (+/-0.0013) for {'max_features': 'sqrt', 'min_samples_split': 2, 'n_estimators': 20, 'max_depth': None}\n",
      "0.7216 (+/-0.0071) for {'max_features': 'sqrt', 'min_samples_split': 2, 'n_estimators': 40, 'max_depth': None}\n",
      "0.6770 (+/-0.0162) for {'max_features': 40, 'min_samples_split': 1, 'n_estimators': 20, 'max_depth': None}\n",
      "0.6833 (+/-0.0178) for {'max_features': 40, 'min_samples_split': 1, 'n_estimators': 40, 'max_depth': None}\n",
      "0.6717 (+/-0.0167) for {'max_features': 40, 'min_samples_split': 2, 'n_estimators': 20, 'max_depth': None}\n",
      "0.6820 (+/-0.0151) for {'max_features': 40, 'min_samples_split': 2, 'n_estimators': 40, 'max_depth': None}\n",
      "\n",
      "confusion matrix\n",
      "\n",
      "\t          prediction 0    prediction 1\n",
      "\tclass 0      42,072             58\n",
      "\tclass 1       3,275            464\n",
      "\n",
      "\n",
      "\n",
      "Detailed classification report:\n",
      "\n",
      "             precision    recall  f1-score   support\n",
      "\n",
      "          0    0.92778   0.99862   0.96190     42130\n",
      "          1    0.88889   0.12410   0.21779      3739\n",
      "\n",
      "avg / total    0.92461   0.92734   0.90124     45869\n",
      "\n",
      "\n"
     ]
    }
   ],
   "source": [
    "rf_p = run_grid_search_on_random_forest('precision', print_grid_scores=True, verbose=1)"
   ]
  },
  {
   "cell_type": "code",
   "execution_count": 12,
   "metadata": {
    "collapsed": false
   },
   "outputs": [
    {
     "name": "stdout",
     "output_type": "stream",
     "text": [
      "Best parameters set found on development set:\n",
      "{'max_features': 40, 'min_samples_split': 1, 'n_estimators': 40, 'max_depth': None}\n",
      "Best score = 0.4373\n",
      "\n",
      "Grid scores on development set:\n",
      "\n",
      "0.1479 (+/-0.0377) for {'max_features': 'sqrt', 'min_samples_split': 1, 'n_estimators': 20, 'max_depth': 6}\n",
      "0.1588 (+/-0.0232) for {'max_features': 'sqrt', 'min_samples_split': 1, 'n_estimators': 40, 'max_depth': 6}\n",
      "0.1510 (+/-0.0088) for {'max_features': 'sqrt', 'min_samples_split': 2, 'n_estimators': 20, 'max_depth': 6}\n",
      "0.1390 (+/-0.0179) for {'max_features': 'sqrt', 'min_samples_split': 2, 'n_estimators': 40, 'max_depth': 6}\n",
      "0.3017 (+/-0.0246) for {'max_features': 40, 'min_samples_split': 1, 'n_estimators': 20, 'max_depth': 6}\n",
      "0.3040 (+/-0.0061) for {'max_features': 40, 'min_samples_split': 1, 'n_estimators': 40, 'max_depth': 6}\n",
      "0.3034 (+/-0.0189) for {'max_features': 40, 'min_samples_split': 2, 'n_estimators': 20, 'max_depth': 6}\n",
      "0.3046 (+/-0.0155) for {'max_features': 40, 'min_samples_split': 2, 'n_estimators': 40, 'max_depth': 6}\n",
      "0.3971 (+/-0.0188) for {'max_features': 'sqrt', 'min_samples_split': 1, 'n_estimators': 20, 'max_depth': None}\n",
      "0.4026 (+/-0.0265) for {'max_features': 'sqrt', 'min_samples_split': 1, 'n_estimators': 40, 'max_depth': None}\n",
      "0.3957 (+/-0.0296) for {'max_features': 'sqrt', 'min_samples_split': 2, 'n_estimators': 20, 'max_depth': None}\n",
      "0.4018 (+/-0.0157) for {'max_features': 'sqrt', 'min_samples_split': 2, 'n_estimators': 40, 'max_depth': None}\n",
      "0.4307 (+/-0.0163) for {'max_features': 40, 'min_samples_split': 1, 'n_estimators': 20, 'max_depth': None}\n",
      "0.4373 (+/-0.0199) for {'max_features': 40, 'min_samples_split': 1, 'n_estimators': 40, 'max_depth': None}\n",
      "0.4290 (+/-0.0097) for {'max_features': 40, 'min_samples_split': 2, 'n_estimators': 20, 'max_depth': None}\n",
      "0.4358 (+/-0.0261) for {'max_features': 40, 'min_samples_split': 2, 'n_estimators': 40, 'max_depth': None}\n",
      "\n",
      "confusion matrix\n",
      "\n",
      "\t          prediction 0    prediction 1\n",
      "\tclass 0      41,330            800\n",
      "\tclass 1       2,100          1,639\n",
      "\n",
      "\n",
      "\n",
      "Detailed classification report:\n",
      "\n",
      "             precision    recall  f1-score   support\n",
      "\n",
      "          0    0.95165   0.98101   0.96611     42130\n",
      "          1    0.67200   0.43835   0.53059      3739\n",
      "\n",
      "avg / total    0.92885   0.93678   0.93060     45869\n",
      "\n",
      "\n"
     ]
    }
   ],
   "source": [
    "rf_r = run_grid_search_on_random_forest('recall', print_grid_scores=True, verbose=1)"
   ]
  },
  {
   "cell_type": "code",
   "execution_count": 21,
   "metadata": {
    "collapsed": false
   },
   "outputs": [],
   "source": [
    "from sklearn.metrics import roc_curve\n",
    "from sklearn.metrics import auc"
   ]
  },
  {
   "cell_type": "code",
   "execution_count": 69,
   "metadata": {
    "collapsed": false
   },
   "outputs": [
    {
     "data": {
      "image/png": "[encoded data removed]",
      "text/plain": [
       "<matplotlib.figure.Figure at 0x11a0265d0>"
      ]
     },
     "metadata": {},
     "output_type": "display_data"
    }
   ],
   "source": [
    "plt.figure(figsize=(8,8))\n",
    "ax = plt.gca()\n",
    "fs=14\n",
    "\n",
    "for rf, label in zip([rf_a, rf_p, rf_r],['accuracy', 'precision', 'recall']):\n",
    "    probs = rf.predict_proba(X_test)\n",
    "    fpr, tpr, thresholds = roc_curve(y_test, probs[:, 1])\n",
    "    roc_auc = auc(fpr, tpr)\n",
    "    ax.plot([0, 1], [0, 1], 'k--')\n",
    "    text = ' (area = {:.3f})'.format(roc_auc)\n",
    "    ax.plot(fpr, tpr, label=label + text)\n",
    "\n",
    "ax.set_xlabel('False positive rate', fontsize=fs)\n",
    "ax.set_ylabel('True positive rate', fontsize=fs)\n",
    "ax.set_title('ROC curve', fontsize=fs)\n",
    "ax.set_ylim((0,1.01))\n",
    "ax.set_xlim((-0.01, 1.0))\n",
    "ax.set_xticks(np.arange(0.0, 1.01, 0.2))\n",
    "ax.set_xticklabels(np.arange(0.0,1.01,0.2), fontsize=fs)\n",
    "ax.set_yticks(np.arange(0.0, 1.01, 0.2))\n",
    "ax.set_yticklabels(np.arange(0.0,1.01,0.2), fontsize=fs)\n",
    "plt.legend(fontsize=fs, bbox_to_anchor=(1.1,0.5), loc='center left')\n",
    "plt.show()"
   ]
  },
  {
   "cell_type": "markdown",
   "metadata": {},
   "source": [
    "## Logistic Regression"
   ]
  },
  {
   "cell_type": "code",
   "execution_count": null,
   "metadata": {
    "collapsed": false
   },
   "outputs": [],
   "source": []
  },
  {
   "cell_type": "code",
   "execution_count": null,
   "metadata": {
    "collapsed": false
   },
   "outputs": [],
   "source": []
  },
  {
   "cell_type": "code",
   "execution_count": null,
   "metadata": {
    "collapsed": false
   },
   "outputs": [],
   "source": []
  },
  {
   "cell_type": "code",
   "execution_count": null,
   "metadata": {
    "collapsed": false
   },
   "outputs": [],
   "source": []
  },
  {
   "cell_type": "code",
   "execution_count": null,
   "metadata": {
    "collapsed": true
   },
   "outputs": [],
   "source": []
  },
  {
   "cell_type": "code",
   "execution_count": null,
   "metadata": {
    "collapsed": false
   },
   "outputs": [],
   "source": []
  },
  {
   "cell_type": "code",
   "execution_count": null,
   "metadata": {
    "collapsed": true
   },
   "outputs": [],
   "source": []
  },
  {
   "cell_type": "markdown",
   "metadata": {},
   "source": [
    "## Incorporate Some Feature Engineering\n",
    "Start with the column \"detailed_household_family_stat\" and convert the classes that have no savings greater than 50K into one class."
   ]
  },
  {
   "cell_type": "code",
   "execution_count": null,
   "metadata": {
    "collapsed": false
   },
   "outputs": [],
   "source": [
    "dhfs = data['detailed_household_family_stat'][data['savings'] == 1].unique()\n",
    "dhfs.sort()\n",
    "print 'unique values for savings = 1', dhfs\n",
    "dhfs_all = data['detailed_household_family_stat'].unique()\n",
    "dhfs_all.sort()\n",
    "print 'unique values for all vals   ', dhfs_all\n",
    "\n",
    "diff = set(dhfs_all).difference(set(dhfs))\n",
    "print ' the differences are........', diff\n",
    "if diff is None:\n",
    "    print '\\n diff is empty'\n",
    "else:\n",
    "    print ' len(diff)', len(diff)\n",
    "    val = max(diff) + 1\n",
    "    print ' mapping values to:', val\n"
   ]
  },
  {
   "cell_type": "code",
   "execution_count": 73,
   "metadata": {
    "collapsed": false
   },
   "outputs": [],
   "source": [
    "def update_column(column):\n",
    "    dhfs = data[column][data['savings'] == 1].unique()\n",
    "    dhfs.sort()\n",
    "    print 'unique values for svngs = 1', dhfs\n",
    "    dhfs_all = data[column].unique()\n",
    "    dhfs_all.sort()\n",
    "    print 'unique values for all vals ', dhfs_all\n",
    "    \n",
    "    diff = set(dhfs_all).difference(set(dhfs))\n",
    "    print ' the differences are........', diff\n",
    "    if diff is None:\n",
    "        print '\\n diff is empty'\n",
    "        return data[column]\n",
    "    \n",
    "    print ' len(diff)', len(diff)\n",
    "    \n",
    "    val = max(diff) + 1\n",
    "    print ' mapping values to:', val\n",
    "    return data[column].map(lambda x : val if x in diff else x)\n"
   ]
  },
  {
   "cell_type": "code",
   "execution_count": 74,
   "metadata": {
    "collapsed": false
   },
   "outputs": [
    {
     "name": "stdout",
     "output_type": "stream",
     "text": [
      "(38,)\n",
      "unique values for svngs = 1 [ 0  1  2  3  4  5  6  7 10 11 12 15 16 17 18 19 22 28 30]\n",
      "unique values for all vals  [ 0  1  2  3  4  5  6  7  8  9 10 11 12 13 14 15 16 17 18 19 20 21 22 23 24\n",
      " 25 26 27 28 29 30 31 32 33 34 35 36 37]\n",
      " the differences are........ set([32, 33, 34, 35, 36, 37, 8, 9, 13, 14, 20, 21, 23, 24, 25, 26, 27, 29, 31])\n",
      " len(diff) 19\n",
      " mapping values to: 38\n",
      "(20,)\n"
     ]
    }
   ],
   "source": [
    "print data['detailed_household_family_stat'][data['savings']==0].value_counts().shape\n",
    "data['detailed_household_family_stat'] = update_column('detailed_household_family_stat')\n",
    "print data['detailed_household_family_stat'][data['savings']==0].value_counts().shape\n"
   ]
  },
  {
   "cell_type": "code",
   "execution_count": 77,
   "metadata": {
    "collapsed": false
   },
   "outputs": [
    {
     "name": "stdout",
     "output_type": "stream",
     "text": [
      "(5,)\n",
      "unique values for svngs = 1 [0 1]\n",
      "unique values for all vals  [0 1 2 3 4]\n",
      " the differences are........ set([2, 3, 4])\n",
      " len(diff) 3\n",
      " mapping values to: 5\n",
      "(3,)\n"
     ]
    }
   ],
   "source": [
    "print data['family_members_under_18'][data['savings']==0].value_counts().shape\n",
    "data['family_members_under_18'] = update_column('family_members_under_18')\n",
    "print data['family_members_under_18'][data['savings']==0].value_counts().shape\n"
   ]
  },
  {
   "cell_type": "code",
   "execution_count": 79,
   "metadata": {
    "collapsed": false
   },
   "outputs": [
    {
     "name": "stdout",
     "output_type": "stream",
     "text": [
      "confusion matrix\n",
      "\n",
      "\t          prediction 0    prediction 1\n",
      "\tclass 0      41,321            809\n",
      "\tclass 1       2,125          1,614\n",
      "\n",
      "\n",
      "\n",
      "Detailed classification report:\n",
      "\n",
      "             precision    recall  f1-score   support\n",
      "\n",
      "          0    0.95109   0.98080   0.96571     42130\n",
      "          1    0.66612   0.43167   0.52386      3739\n",
      "\n",
      "avg / total    0.92786   0.93604   0.92970     45869\n",
      "\n"
     ]
    }
   ],
   "source": [
    "rf_clf = RandomForestClassifier(n_estimators = 40, max_depth=None, max_features=40, min_samples_split=1)\n",
    "rf_clf.fit(X_train, y_train)\n",
    "\n",
    "y_pred = rf_clf.predict(X_test)\n",
    "\n",
    "print 'confusion matrix'\n",
    "print_confusion_matrix(y_test, y_pred)\n",
    "print\n",
    "print '\\nDetailed classification report:\\n'\n",
    "print classification_report(y_test, y_pred, digits=5)\n"
   ]
  },
  {
   "cell_type": "code",
   "execution_count": null,
   "metadata": {
    "collapsed": false
   },
   "outputs": [],
   "source": []
  },
  {
   "cell_type": "code",
   "execution_count": null,
   "metadata": {
    "collapsed": true
   },
   "outputs": [],
   "source": []
  },
  {
   "cell_type": "code",
   "execution_count": null,
   "metadata": {
    "collapsed": true
   },
   "outputs": [],
   "source": []
  },
  {
   "cell_type": "code",
   "execution_count": null,
   "metadata": {
    "collapsed": true
   },
   "outputs": [],
   "source": []
  },
  {
   "cell_type": "code",
   "execution_count": null,
   "metadata": {
    "collapsed": true
   },
   "outputs": [],
   "source": []
  },
  {
   "cell_type": "code",
   "execution_count": null,
   "metadata": {
    "collapsed": true
   },
   "outputs": [],
   "source": []
  },
  {
   "cell_type": "code",
   "execution_count": null,
   "metadata": {
    "collapsed": true
   },
   "outputs": [],
   "source": []
  },
  {
   "cell_type": "code",
   "execution_count": null,
   "metadata": {
    "collapsed": false
   },
   "outputs": [],
   "source": [
    "# Fit and transform x to visualise inside a 2D feature space\n",
    "from sklearn.decomposition import PCA\n",
    "pca = PCA(n_components=2)\n",
    "data_vis = pca.fit_transform(X)\n",
    "print 'shape(data_vis):', data_vis.shape\n",
    "print data_vis[:4,:]\n",
    "print data_vis[-4:,:]\n",
    "print 'pca.components_.shape:', pca.components_.shape\n",
    "print 'pca.explained_variance_ratio_:', pca.explained_variance_ratio_"
   ]
  },
  {
   "cell_type": "code",
   "execution_count": null,
   "metadata": {
    "collapsed": false
   },
   "outputs": [],
   "source": [
    "print 'y==0 : ', (y==0).sum()\n",
    "print 'y==1 : ', (y==1).sum()\n",
    "print 'y==0 + y==1:', (y==0).sum() + (y==1).sum()"
   ]
  },
  {
   "cell_type": "code",
   "execution_count": null,
   "metadata": {
    "collapsed": false
   },
   "outputs": [],
   "source": [
    "# Plot the original data\n",
    "# Plot the two classes\n",
    "\n",
    "def scatter_plot(X, y):\n",
    "    data_vis = pca.fit_transform(X)\n",
    "    yeq0 = data_vis[ (y==0) ]\n",
    "    yeq1 = data_vis[ (y==1) ]\n",
    "    palette = sns.color_palette()\n",
    "    almost_black = '#262626'\n",
    "    fig=plt.figure(figsize=(9,9));\n",
    "    ax = fig.gca();\n",
    "    ax.scatter(yeq0[:, 0], yeq0[:, 1], label=\"Savings < 50K\", alpha=0.3, facecolor=palette[0], \n",
    "               linewidth=0.15, edgecolor=almost_black);\n",
    "    ax.scatter(yeq1[:, 0], yeq1[:, 1], label=\"Savings > 50K\", alpha=0.3, facecolor=palette[2], \n",
    "               linewidth=0.15, edgecolor=almost_black);\n",
    "    ax.legend(fontsize=16, loc='lower left', bbox_to_anchor=(1,0.8));\n",
    "    return ax"
   ]
  },
  {
   "cell_type": "code",
   "execution_count": null,
   "metadata": {
    "collapsed": false
   },
   "outputs": [],
   "source": [
    "ax = scatter_plot(X, y);"
   ]
  },
  {
   "cell_type": "code",
   "execution_count": null,
   "metadata": {
    "collapsed": true
   },
   "outputs": [],
   "source": []
  },
  {
   "cell_type": "code",
   "execution_count": null,
   "metadata": {
    "collapsed": true
   },
   "outputs": [],
   "source": []
  },
  {
   "cell_type": "code",
   "execution_count": null,
   "metadata": {
    "collapsed": true
   },
   "outputs": [],
   "source": []
  },
  {
   "cell_type": "code",
   "execution_count": null,
   "metadata": {
    "collapsed": true
   },
   "outputs": [],
   "source": []
  },
  {
   "cell_type": "code",
   "execution_count": null,
   "metadata": {
    "collapsed": false
   },
   "outputs": [],
   "source": []
  },
  {
   "cell_type": "markdown",
   "metadata": {
    "collapsed": true
   },
   "source": [
    "## Class Imblance: Under and Over Sampling"
   ]
  },
  {
   "cell_type": "code",
   "execution_count": null,
   "metadata": {
    "collapsed": false
   },
   "outputs": [],
   "source": [
    "from imblearn.under_sampling import RandomUnderSampler\n"
   ]
  },
  {
   "cell_type": "code",
   "execution_count": null,
   "metadata": {
    "collapsed": false
   },
   "outputs": [],
   "source": [
    "# Generate the new dataset using under-sampling method\n",
    "verbose = False\n",
    "\n",
    "# 'Random under-sampling'\n",
    "US = RandomUnderSampler()\n",
    "usx, usy = US.fit_sample(X, y)\n",
    "ax = scatter_plot(usx, usy);\n"
   ]
  },
  {
   "cell_type": "code",
   "execution_count": null,
   "metadata": {
    "collapsed": false
   },
   "outputs": [],
   "source": []
  },
  {
   "cell_type": "code",
   "execution_count": null,
   "metadata": {
    "collapsed": true
   },
   "outputs": [],
   "source": []
  },
  {
   "cell_type": "code",
   "execution_count": null,
   "metadata": {
    "collapsed": false
   },
   "outputs": [],
   "source": []
  },
  {
   "cell_type": "code",
   "execution_count": null,
   "metadata": {
    "collapsed": false
   },
   "outputs": [],
   "source": []
  },
  {
   "cell_type": "code",
   "execution_count": null,
   "metadata": {
    "collapsed": true
   },
   "outputs": [],
   "source": []
  },
  {
   "cell_type": "code",
   "execution_count": null,
   "metadata": {
    "collapsed": false
   },
   "outputs": [],
   "source": []
  },
  {
   "cell_type": "code",
   "execution_count": null,
   "metadata": {
    "collapsed": true
   },
   "outputs": [],
   "source": []
  },
  {
   "cell_type": "code",
   "execution_count": null,
   "metadata": {
    "collapsed": true
   },
   "outputs": [],
   "source": []
  },
  {
   "cell_type": "code",
   "execution_count": null,
   "metadata": {
    "collapsed": true
   },
   "outputs": [],
   "source": []
  },
  {
   "cell_type": "code",
   "execution_count": null,
   "metadata": {
    "collapsed": true
   },
   "outputs": [],
   "source": []
  },
  {
   "cell_type": "code",
   "execution_count": null,
   "metadata": {
    "collapsed": true
   },
   "outputs": [],
   "source": []
  },
  {
   "cell_type": "code",
   "execution_count": null,
   "metadata": {
    "collapsed": true
   },
   "outputs": [],
   "source": []
  },
  {
   "cell_type": "code",
   "execution_count": null,
   "metadata": {
    "collapsed": true
   },
   "outputs": [],
   "source": []
  },
  {
   "cell_type": "code",
   "execution_count": null,
   "metadata": {
    "collapsed": true
   },
   "outputs": [],
   "source": []
  }
 ],
 "metadata": {
  "kernelspec": {
   "display_name": "Python 2",
   "language": "python",
   "name": "python2"
  },
  "language_info": {
   "codemirror_mode": {
    "name": "ipython",
    "version": 2
   },
   "file_extension": ".py",
   "mimetype": "text/x-python",
   "name": "python",
   "nbconvert_exporter": "python",
   "pygments_lexer": "ipython2",
   "version": "2.7.11"
  }
 },
 "nbformat": 4,
 "nbformat_minor": 0
}
