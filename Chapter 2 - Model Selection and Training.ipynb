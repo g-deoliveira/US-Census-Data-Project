{
 "cells": [
  {
   "cell_type": "markdown",
   "metadata": {},
   "source": [
    "# Chapter 2 - Model Selection and Training\n",
    "Guilherme de Oliveira <br>\n",
    "9/11/2016"
   ]
  },
  {
   "cell_type": "markdown",
   "metadata": {},
   "source": [
    "## Introduction\n",
    "\n",
    "In Chapter 2 we will work on the classification model of the US Census data that was analyzed in Chapter 1. My biggest interest in modelling will be dealing with the class imbalance of the target variable. In particular, I am interested in the following aspects:\n",
    "<ul>\n",
    "<li> How best to assess the accuracy of the classifier. It is unlikely that accuracy will suffice, because of the [accuracy paradox](https://en.wikipedia.org/wiki/Accuracy_paradox).\n",
    "<li> What are some approaches that we can use to deal with the class imbalance? Examples include oversampling, undersampling, incorporating clustering algorithms, etc...\n",
    "</ul>\n",
    "<br>\n",
    "<br>\n",
    "<br>\n",
    "# This is a work in progress. Stay tuned for more...\n",
    "<br>\n",
    "<br>\n",
    "<br>\n"
   ]
  },
  {
   "cell_type": "code",
   "execution_count": 1,
   "metadata": {
    "collapsed": true
   },
   "outputs": [],
   "source": [
    "import pandas as pd\n",
    "import numpy as np\n",
    "from matplotlib import pyplot as plt\n",
    "import seaborn as sns\n",
    "\n",
    "from sklearn.cross_validation import train_test_split\n",
    "from sklearn.ensemble import RandomForestClassifier\n",
    "from sklearn.linear_model import LogisticRegression\n",
    "from sklearn.decomposition import PCA\n",
    "from sklearn.grid_search import GridSearchCV\n",
    "from sklearn.preprocessing import MinMaxScaler\n",
    "\n",
    "from sklearn.metrics import confusion_matrix\n",
    "from sklearn.metrics import classification_report\n",
    "from sklearn.metrics import roc_curve\n",
    "from sklearn.metrics import auc\n",
    "\n",
    "\n",
    "%matplotlib inline"
   ]
  },
  {
   "cell_type": "markdown",
   "metadata": {},
   "source": [
    "## Preprocessing Data"
   ]
  },
  {
   "cell_type": "code",
   "execution_count": 2,
   "metadata": {
    "collapsed": true
   },
   "outputs": [],
   "source": [
    "# preprocessing function - developped in Chapter 1\n",
    "the_columns  = [('age', 'continuous'), \n",
    "                ('class_of_worker', 'nominal'), \n",
    "                ('detailed_industry_code', 'nominal'), \n",
    "                ('detailed_occupation_code', 'nominal'), \n",
    "                ('education', 'nominal'), \n",
    "                ('wage_per_hour', 'continuous'), \n",
    "                ('enrolled_in_edu_last_week', 'nominal'),\n",
    "                ('marital_status', 'nominal'),\n",
    "                ('major_industry_code', 'nominal'),\n",
    "                ('major_occupation_code', 'nominal'),\n",
    "                ('race', 'nominal'),\n",
    "                ('hispanic_origin', 'nominal'),\n",
    "                ('sex', 'binary'), # binary column with values Male/Female\n",
    "                ('member_of_labor_union', 'nominal'), \n",
    "                ('reason_for_unemployment', 'nominal'),\n",
    "                ('full_or_part_time_employment_stat', 'nominal'),\n",
    "                ('capital_gains', 'continuous'),\n",
    "                ('capital_losses', 'continuous'),\n",
    "                ('dividends', 'continuous'),\n",
    "                ('tax_filer', 'nominal'),\n",
    "                ('region_of_previous_residence', 'nominal'),\n",
    "                ('state_of_previous_residence', 'nominal'),\n",
    "                ('detailed_household_family_stat', 'nominal'),\n",
    "                ('detailed_household_summary', 'nominal'),\n",
    "                ('instance_weight', 'IGNORE'), # as per instructions, to be dropped\n",
    "                ('migration_code_change_in_msa', 'nominal'),\n",
    "                ('migration_code_change_in_reg', 'nominal'),\n",
    "                ('migration_code_move_within_reg', 'nominal'),\n",
    "                ('live_in_this_house_1_yr_ago', 'nominal'),\n",
    "                ('migration_prev_res_in_sunbelt', 'nominal'),\n",
    "                ('num_persons_worked_for_employer', 'continuous'),\n",
    "                ('family_members_under_18', 'nominal'),\n",
    "                ('cob_father', 'nominal'),\n",
    "                ('cob_mother', 'nominal'),\n",
    "                ('cob_self', 'nominal'),\n",
    "                ('citizenship', 'nominal'),\n",
    "                ('own_business_or_self_employed', 'nominal'),\n",
    "                ('fill_in_questionnaire_for_veterans_admin', 'nominal'),\n",
    "                ('veterans_benefits', 'nominal'),\n",
    "                ('weeks_worked_in_year', 'nominal'),\n",
    "                ('year', 'nominal'), \n",
    "                ('savings','target')] # binary TARGET variable\n"
   ]
  },
  {
   "cell_type": "code",
   "execution_count": 3,
   "metadata": {
    "collapsed": true
   },
   "outputs": [],
   "source": [
    "def preprocessData(file_name):\n",
    "    # the_columns stores tuples of (column_name and tag for continuous/nominal/binary/target)\n",
    "    \n",
    "    raw_data = pd.read_csv(file_name, names=[c[0] for c in the_columns], index_col=False)\n",
    "    original_shape = raw_data.shape\n",
    "    \n",
    "    raw_data.drop('instance_weight', axis=1, inplace=True)\n",
    "    the_columns.remove(('instance_weight', 'IGNORE'))\n",
    "    \n",
    "    # find the duplicate rows, keep the first one\n",
    "    duplicate_rows = raw_data.duplicated(keep='first')\n",
    "    \n",
    "    print 'number of duplicates = {:d}'.format(duplicate_rows.sum())\n",
    "    raw_data = raw_data.drop_duplicates(keep='first')\n",
    "    new_shape =  raw_data.shape\n",
    "    print 'number of duplicates removed = {:d}'.format(original_shape[0] - new_shape[0])\n",
    "    print 'original shape = {:d}, {:d}'.format(original_shape[0], original_shape[1])\n",
    "    print 'new shape = {:d}, {:d}'.format(raw_data.shape[0], raw_data.shape[1])\n",
    "    \n",
    "    # convert nominal columns (object dtype) to integer type\n",
    "    data = pd.DataFrame(raw_data.select_dtypes(include=['object']))\n",
    "    object_columns = data.columns\n",
    "    \n",
    "    for column in object_columns:\n",
    "        unique_values = data[column].unique()\n",
    "        dictionary = {key:idx for idx,key in enumerate(unique_values)}\n",
    "        data[column] = data[column].apply(lambda x : dictionary[x])\n",
    "    \n",
    "    # add nominal columns that were already in integer format \n",
    "    nominal_integer_columns = [c[0] for c in the_columns \n",
    "                               if c[1] == 'nominal' and c[0] not in data.columns]\n",
    "    data[nominal_integer_columns] = raw_data[nominal_integer_columns]\n",
    "    \n",
    "    # convert 'sex', and 'savings' columns to binary; add year column\n",
    "    data['savings'] = raw_data['savings'].map(lambda x: \n",
    "                                              1 if str(x).strip() == '50000+.' else 0)\n",
    "    data['sex'] = raw_data['sex'].map(lambda x: \n",
    "                                      1 if str(x).strip() == 'Male' else 0)\n",
    "    data['year'] = raw_data['year']\n",
    "    \n",
    "    # add continuous columns\n",
    "    continuous_columns = [c[0] for c in the_columns if c[1] == 'continuous']\n",
    "    data[continuous_columns] = raw_data[continuous_columns]\n",
    "    \n",
    "    # verify that we aren't missing any columns\n",
    "    assert set(data.columns) == (set(raw_data.columns))\n",
    "    \n",
    "    text = 'The final processed data has {:,d} rows and {:d} columns.\\n'\n",
    "    print text.format(data.shape[0], data.shape[1])\n",
    "    return data\n"
   ]
  },
  {
   "cell_type": "code",
   "execution_count": 4,
   "metadata": {
    "collapsed": false
   },
   "outputs": [
    {
     "name": "stdout",
     "output_type": "stream",
     "text": [
      "number of duplicates = 46627\n",
      "number of duplicates removed = 46627\n",
      "original shape = 199523, 42\n",
      "new shape = 152896, 41\n",
      "The final processed data has 152,896 rows and 41 columns.\n",
      "\n"
     ]
    }
   ],
   "source": [
    "data = preprocessData('us_census_full/census_income_learn.csv')"
   ]
  },
  {
   "cell_type": "code",
   "execution_count": 5,
   "metadata": {
    "collapsed": false
   },
   "outputs": [
    {
     "data": {
      "text/html": [
       "<div>\n",
       "<table border=\"1\" class=\"dataframe\">\n",
       "  <thead>\n",
       "    <tr style=\"text-align: right;\">\n",
       "      <th></th>\n",
       "      <th>class_of_worker</th>\n",
       "      <th>education</th>\n",
       "      <th>enrolled_in_edu_last_week</th>\n",
       "      <th>marital_status</th>\n",
       "      <th>major_industry_code</th>\n",
       "      <th>major_occupation_code</th>\n",
       "      <th>race</th>\n",
       "      <th>hispanic_origin</th>\n",
       "      <th>sex</th>\n",
       "      <th>member_of_labor_union</th>\n",
       "      <th>...</th>\n",
       "      <th>own_business_or_self_employed</th>\n",
       "      <th>veterans_benefits</th>\n",
       "      <th>weeks_worked_in_year</th>\n",
       "      <th>year</th>\n",
       "      <th>age</th>\n",
       "      <th>wage_per_hour</th>\n",
       "      <th>capital_gains</th>\n",
       "      <th>capital_losses</th>\n",
       "      <th>dividends</th>\n",
       "      <th>num_persons_worked_for_employer</th>\n",
       "    </tr>\n",
       "  </thead>\n",
       "  <tbody>\n",
       "    <tr>\n",
       "      <th>0</th>\n",
       "      <td>0</td>\n",
       "      <td>0</td>\n",
       "      <td>0</td>\n",
       "      <td>0</td>\n",
       "      <td>0</td>\n",
       "      <td>0</td>\n",
       "      <td>0</td>\n",
       "      <td>0</td>\n",
       "      <td>0</td>\n",
       "      <td>0</td>\n",
       "      <td>...</td>\n",
       "      <td>0</td>\n",
       "      <td>2</td>\n",
       "      <td>0</td>\n",
       "      <td>95</td>\n",
       "      <td>73</td>\n",
       "      <td>0</td>\n",
       "      <td>0</td>\n",
       "      <td>0</td>\n",
       "      <td>0</td>\n",
       "      <td>0</td>\n",
       "    </tr>\n",
       "    <tr>\n",
       "      <th>1</th>\n",
       "      <td>1</td>\n",
       "      <td>1</td>\n",
       "      <td>0</td>\n",
       "      <td>1</td>\n",
       "      <td>1</td>\n",
       "      <td>1</td>\n",
       "      <td>0</td>\n",
       "      <td>0</td>\n",
       "      <td>1</td>\n",
       "      <td>0</td>\n",
       "      <td>...</td>\n",
       "      <td>0</td>\n",
       "      <td>2</td>\n",
       "      <td>52</td>\n",
       "      <td>94</td>\n",
       "      <td>58</td>\n",
       "      <td>0</td>\n",
       "      <td>0</td>\n",
       "      <td>0</td>\n",
       "      <td>0</td>\n",
       "      <td>1</td>\n",
       "    </tr>\n",
       "    <tr>\n",
       "      <th>2</th>\n",
       "      <td>0</td>\n",
       "      <td>2</td>\n",
       "      <td>1</td>\n",
       "      <td>2</td>\n",
       "      <td>0</td>\n",
       "      <td>0</td>\n",
       "      <td>1</td>\n",
       "      <td>0</td>\n",
       "      <td>0</td>\n",
       "      <td>0</td>\n",
       "      <td>...</td>\n",
       "      <td>0</td>\n",
       "      <td>2</td>\n",
       "      <td>0</td>\n",
       "      <td>95</td>\n",
       "      <td>18</td>\n",
       "      <td>0</td>\n",
       "      <td>0</td>\n",
       "      <td>0</td>\n",
       "      <td>0</td>\n",
       "      <td>0</td>\n",
       "    </tr>\n",
       "  </tbody>\n",
       "</table>\n",
       "<p>3 rows × 41 columns</p>\n",
       "</div>"
      ],
      "text/plain": [
       "   class_of_worker  education  enrolled_in_edu_last_week  marital_status  \\\n",
       "0                0          0                          0               0   \n",
       "1                1          1                          0               1   \n",
       "2                0          2                          1               2   \n",
       "\n",
       "   major_industry_code  major_occupation_code  race  hispanic_origin  sex  \\\n",
       "0                    0                      0     0                0    0   \n",
       "1                    1                      1     0                0    1   \n",
       "2                    0                      0     1                0    0   \n",
       "\n",
       "   member_of_labor_union               ...                 \\\n",
       "0                      0               ...                  \n",
       "1                      0               ...                  \n",
       "2                      0               ...                  \n",
       "\n",
       "   own_business_or_self_employed  veterans_benefits  weeks_worked_in_year  \\\n",
       "0                              0                  2                     0   \n",
       "1                              0                  2                    52   \n",
       "2                              0                  2                     0   \n",
       "\n",
       "   year  age  wage_per_hour  capital_gains  capital_losses  dividends  \\\n",
       "0    95   73              0              0               0          0   \n",
       "1    94   58              0              0               0          0   \n",
       "2    95   18              0              0               0          0   \n",
       "\n",
       "   num_persons_worked_for_employer  \n",
       "0                                0  \n",
       "1                                1  \n",
       "2                                0  \n",
       "\n",
       "[3 rows x 41 columns]"
      ]
     },
     "execution_count": 5,
     "metadata": {},
     "output_type": "execute_result"
    }
   ],
   "source": [
    "data.head(3)"
   ]
  },
  {
   "cell_type": "markdown",
   "metadata": {},
   "source": [
    "## One-Hot Encoded Data\n",
    "This will be required for logistic regression."
   ]
  },
  {
   "cell_type": "code",
   "execution_count": 6,
   "metadata": {
    "collapsed": true
   },
   "outputs": [],
   "source": [
    "def one_hot_encode_nominal_columns(data):\n",
    "    nominal_columns = [c[0] for c in the_columns if c[1] == 'nominal']\n",
    "    \n",
    "    dummy_columns = [pd.get_dummies(data[col], prefix=col, prefix_sep='.') \n",
    "                     for col in nominal_columns]\n",
    "    \n",
    "    one_hot_encoded_data = pd.concat(dummy_columns, axis=1)\n",
    "    print '\\nThere were {:d} nominal columns to be converted.'.format(len(nominal_columns))\n",
    "    print 'The number of one-hot-encoded columns is {:d}.\\n'.format(data.shape[1])\n",
    "    \n",
    "    # check size\n",
    "    count_distinct_values = 0\n",
    "    for column in nominal_columns:\n",
    "        count_distinct_values += len(data[column].unique())\n",
    "    \n",
    "    assert count_distinct_values == one_hot_encoded_data.shape[1], \\\n",
    "        \"mismatch between number of dummy columns and unique values\"\n",
    "    \n",
    "    return one_hot_encoded_data"
   ]
  },
  {
   "cell_type": "code",
   "execution_count": 7,
   "metadata": {
    "collapsed": false
   },
   "outputs": [
    {
     "name": "stdout",
     "output_type": "stream",
     "text": [
      "\n",
      "There were 33 nominal columns to be converted.\n",
      "The number of one-hot-encoded columns is 41.\n",
      "\n",
      "The final shape is: 152,896 x 561.\n",
      "To verify scaling: max = 1.00, min=0.00\n",
      "\n"
     ]
    }
   ],
   "source": [
    "ohe_data = one_hot_encode_nominal_columns(data)\n",
    "\n",
    "# add target (savings)\n",
    "ohe_data['savings'] = data['savings']\n",
    "\n",
    "# scale and add continuous columns\n",
    "min_max_scaler = MinMaxScaler()\n",
    "continuous_cols = [c[0] for c in the_columns if c[1] == 'continuous']\n",
    "ohe_data[continuous_cols] = pd.DataFrame(min_max_scaler.fit_transform(\n",
    "        data[continuous_cols]), columns=continuous_cols, index = data.index)\n",
    "\n",
    "print 'The final shape is: {:,d} x {:d}.'.format(ohe_data.shape[0], ohe_data.shape[1])\n",
    "mx = ohe_data.max().max()\n",
    "mn = ohe_data.min().min()\n",
    "print 'To verify scaling: max = {:.2f}, min={:.2f}\\n'.format(mx, mn)"
   ]
  },
  {
   "cell_type": "markdown",
   "metadata": {},
   "source": [
    "## Functions for Modelling"
   ]
  },
  {
   "cell_type": "code",
   "execution_count": 8,
   "metadata": {
    "collapsed": false
   },
   "outputs": [],
   "source": [
    "def get_train_test_data_sets(X, y):\n",
    "    # obtain training and test set for cross-validation\n",
    "\n",
    "    X_train, X_test, y_train, y_test = train_test_split(X, y, test_size=0.3, random_state=0)\n",
    "    print 'size of training data: {:7d}, {:3d}'.format(X_train.shape[0], X_train.shape[1])\n",
    "    print 'size of test data:     {:7d}, {:3d}'.format(X_test.shape[0], X_test.shape[1])\n",
    "    print\n",
    "    ytr0, ytr1 = (y_train == 0).sum(), (y_train == 1).sum()\n",
    "    yte0, yte1 = (y_test == 0).sum(), (y_test == 1).sum()\n",
    "    print 'y_train==0: {:6d},  y_train==1: {:4d},  balance: {:.4f}'.format(\n",
    "        ytr0, ytr1, float(ytr0)/(ytr0+ytr1))\n",
    "    print 'y_test==0:  {:6d},  y_test==1:  {:4d},  balance: {:.4f}'.format(\n",
    "        yte0, yte1, float(yte0)/(yte0+yte1))\n",
    "    \n",
    "    return X_train, X_test, y_train, y_test"
   ]
  },
  {
   "cell_type": "code",
   "execution_count": 9,
   "metadata": {
    "collapsed": false
   },
   "outputs": [],
   "source": [
    "def print_confusion_matrix(y_true, y_pred):\n",
    "    header = '\\t          prediction 0    prediction 1'\n",
    "    row0 =   '\\tclass 0 {:11,d} {:14,d}'\n",
    "    row1 =   '\\tclass 1 {:11,d} {:14,d}'\n",
    "    cm = confusion_matrix(y_true, y_pred)\n",
    "    print header\n",
    "    print row0.format(cm[0,0], cm[0,1])\n",
    "    print row1.format(cm[1,0], cm[1,1])\n",
    "    tp, fn = float(cm[0,0]), float(cm[0,1])\n",
    "    fp, tn = float(cm[1,0]), float(cm[1,1])\n",
    "#     print 'precision = {:.4f},  {:.4f}'.format(tp/(tp+fp), tn/(tn+fn))\n",
    "#     print 'recall =    {:.4f},  {:.4f}'.format(tp/(tp+fn), tn/(tn+fp))\n"
   ]
  },
  {
   "cell_type": "code",
   "execution_count": 10,
   "metadata": {
    "collapsed": false
   },
   "outputs": [],
   "source": [
    "def run_grid_search(classifier, parameters, X_train, y_train, X_test, y_test,\n",
    "                    score=None, print_grid_scores=False, verbose=0):\n",
    "    \n",
    "    clf = GridSearchCV(classifier, parameters, scoring=score, verbose=verbose)\n",
    "    \n",
    "    clf.fit(X_train, y_train)\n",
    "    y_pred = clf.predict(X_test)\n",
    "    \n",
    "    print 'Best parameters on training set:'\n",
    "    print clf.best_params_\n",
    "    print '\\nBest score = {:.4f}'.format(clf.best_score_)\n",
    "    if print_grid_scores:\n",
    "        print '\\nGrid scores on training set:\\n'\n",
    "        for params, mean_score, scores in clf.grid_scores_:\n",
    "            print(\"%0.4f (+/-%0.04f) for %r\"\n",
    "                  % (mean_score, scores.std() * 2, params))\n",
    "    print\n",
    "    print 'Confusion matrix:'\n",
    "    print_confusion_matrix(y_test, y_pred)\n",
    "    print '\\nClassification report:'\n",
    "    print classification_report(y_test, y_pred, digits=5)\n",
    "    return clf"
   ]
  },
  {
   "cell_type": "code",
   "execution_count": 11,
   "metadata": {
    "collapsed": true
   },
   "outputs": [],
   "source": [
    "def plot_roc_curves(models, X_test, y_test):\n",
    "    plt.figure(figsize=(8,8))\n",
    "    ax = plt.gca()\n",
    "    fs=14\n",
    "    \n",
    "    for rf in models:\n",
    "        probs = rf.predict_proba(X_test)\n",
    "        fpr, tpr, thresholds = roc_curve(y_test, probs[:, 1])\n",
    "        roc_auc = auc(fpr, tpr)\n",
    "        ax.plot([0, 1], [0, 1], 'k--')\n",
    "        label = rf.get_params()['scoring']\n",
    "        text = ' (area = {:.3f})'.format(roc_auc)\n",
    "        ax.plot(fpr, tpr, label=label + text)\n",
    "    \n",
    "    ax.set_xlabel('False positive rate', fontsize=fs)\n",
    "    ax.set_ylabel('True positive rate', fontsize=fs)\n",
    "    ax.set_title('ROC curve', fontsize=fs)\n",
    "    ax.set_xticks(np.arange(0.0, 1.01, 0.2))\n",
    "    ax.set_xticklabels(np.arange(0.0,1.01,0.2), fontsize=fs)\n",
    "    ax.set_yticks(np.arange(0.0, 1.01, 0.2))\n",
    "    ax.set_yticklabels(np.arange(0.0,1.01,0.2), fontsize=fs)\n",
    "    ax.set_ylim((0,1.01))\n",
    "    ax.set_xlim((-0.01, 1.0))\n",
    "    plt.legend(fontsize=fs, bbox_to_anchor=(1.05,0.5), loc='center left')\n",
    "    plt.show()"
   ]
  },
  {
   "cell_type": "markdown",
   "metadata": {},
   "source": [
    "## Random Forest Model\n",
    "Use scikit-learn modules to run a grid search for a random forest model to find the best parameters. Three cases are run, optimized on different scores: accuracy, precision and recall. Confusion matrices are displayed as well as a classification report."
   ]
  },
  {
   "cell_type": "code",
   "execution_count": 12,
   "metadata": {
    "collapsed": false
   },
   "outputs": [
    {
     "name": "stdout",
     "output_type": "stream",
     "text": [
      "size of training data:  107027,  40\n",
      "size of test data:       45869,  40\n",
      "\n",
      "y_train==0:  98399,  y_train==1: 8628,  balance: 0.9194\n",
      "y_test==0:   42130,  y_test==1:  3739,  balance: 0.9185\n"
     ]
    }
   ],
   "source": [
    "X = data.drop('savings', axis=1)\n",
    "y = data.loc[:,'savings']\n",
    "\n",
    "X_train, X_test, y_train, y_test = get_train_test_data_sets(X, y)\n"
   ]
  },
  {
   "cell_type": "code",
   "execution_count": 13,
   "metadata": {
    "collapsed": false
   },
   "outputs": [],
   "source": [
    "parameters = {'n_estimators': [20, 40, 80, 160, 320, 640], \n",
    "              'max_depth': [6, None],\n",
    "              'max_features' : ['sqrt', 40],\n",
    "              'min_samples_split' : [1, 2]}\n",
    "\n",
    "#parameters = {'n_estimators': [10], 'max_depth': [6], 'max_features' : ['sqrt'], 'min_samples_split' : [1]}\n"
   ]
  },
  {
   "cell_type": "code",
   "execution_count": 14,
   "metadata": {
    "collapsed": false
   },
   "outputs": [
    {
     "name": "stderr",
     "output_type": "stream",
     "text": [
      "[Parallel(n_jobs=1)]: Done  49 tasks       | elapsed: 10.3min\n",
      "[Parallel(n_jobs=1)]: Done 144 out of 144 | elapsed: 101.2min finished\n"
     ]
    },
    {
     "name": "stdout",
     "output_type": "stream",
     "text": [
      "Fitting 3 folds for each of 48 candidates, totalling 144 fits\n",
      "Best parameters on training set:\n",
      "{'max_features': 'sqrt', 'min_samples_split': 2, 'n_estimators': 640, 'max_depth': None}\n",
      "\n",
      "Best score = 0.9408\n",
      "\n",
      "Confusion matrix:\n",
      "\t          prediction 0    prediction 1\n",
      "\tclass 0      41,562            568\n",
      "\tclass 1       2,184          1,555\n",
      "\n",
      "Classification report:\n",
      "             precision    recall  f1-score   support\n",
      "\n",
      "          0    0.95008   0.98652   0.96795     42130\n",
      "          1    0.73245   0.41589   0.53054      3739\n",
      "\n",
      "avg / total    0.93234   0.94000   0.93230     45869\n",
      "\n"
     ]
    }
   ],
   "source": [
    "rf_a = run_grid_search(RandomForestClassifier(), parameters,\n",
    "                       X_train, y_train, X_test, y_test,\n",
    "                       score='accuracy', verbose=1)"
   ]
  },
  {
   "cell_type": "code",
   "execution_count": 15,
   "metadata": {
    "collapsed": false
   },
   "outputs": [
    {
     "name": "stderr",
     "output_type": "stream",
     "text": [
      "[Parallel(n_jobs=1)]: Done  49 tasks       | elapsed:  9.0min\n",
      "[Parallel(n_jobs=1)]: Done 144 out of 144 | elapsed: 99.9min finished\n"
     ]
    },
    {
     "name": "stdout",
     "output_type": "stream",
     "text": [
      "Fitting 3 folds for each of 48 candidates, totalling 144 fits\n",
      "Best parameters on training set:\n",
      "{'max_features': 'sqrt', 'min_samples_split': 2, 'n_estimators': 160, 'max_depth': 6}\n",
      "\n",
      "Best score = 0.9078\n",
      "\n",
      "Confusion matrix:\n",
      "\t          prediction 0    prediction 1\n",
      "\tclass 0      42,069             61\n",
      "\tclass 1       3,224            515\n",
      "\n",
      "Classification report:\n",
      "             precision    recall  f1-score   support\n",
      "\n",
      "          0    0.92882   0.99855   0.96242     42130\n",
      "          1    0.89410   0.13774   0.23870      3739\n",
      "\n",
      "avg / total    0.92599   0.92838   0.90343     45869\n",
      "\n"
     ]
    }
   ],
   "source": [
    "rf_p = run_grid_search(RandomForestClassifier(), parameters,\n",
    "                       X_train, y_train, X_test, y_test,\n",
    "                       score='precision', verbose=1)"
   ]
  },
  {
   "cell_type": "code",
   "execution_count": 16,
   "metadata": {
    "collapsed": false
   },
   "outputs": [
    {
     "name": "stderr",
     "output_type": "stream",
     "text": [
      "[Parallel(n_jobs=1)]: Done  49 tasks       | elapsed:  9.0min\n",
      "[Parallel(n_jobs=1)]: Done 144 out of 144 | elapsed: 99.8min finished\n"
     ]
    },
    {
     "name": "stdout",
     "output_type": "stream",
     "text": [
      "Fitting 3 folds for each of 48 candidates, totalling 144 fits\n",
      "Best parameters on training set:\n",
      "{'max_features': 40, 'min_samples_split': 1, 'n_estimators': 640, 'max_depth': None}\n",
      "\n",
      "Best score = 0.4482\n",
      "\n",
      "Confusion matrix:\n",
      "\t          prediction 0    prediction 1\n",
      "\tclass 0      41,326            804\n",
      "\tclass 1       2,070          1,669\n",
      "\n",
      "Classification report:\n",
      "             precision    recall  f1-score   support\n",
      "\n",
      "          0    0.95230   0.98092   0.96640     42130\n",
      "          1    0.67489   0.44638   0.53735      3739\n",
      "\n",
      "avg / total    0.92969   0.93734   0.93142     45869\n",
      "\n"
     ]
    }
   ],
   "source": [
    "rf_r = run_grid_search(RandomForestClassifier(), parameters,\n",
    "                       X_train, y_train, X_test, y_test,\n",
    "                       score='recall', verbose=1)"
   ]
  },
  {
   "cell_type": "code",
   "execution_count": 17,
   "metadata": {
    "collapsed": false
   },
   "outputs": [
    {
     "data": {
      "image/png": "[encoded data removed]",
      "text/plain": [
       "<matplotlib.figure.Figure at 0x1191a0b90>"
      ]
     },
     "metadata": {},
     "output_type": "display_data"
    }
   ],
   "source": [
    "plot_roc_curves([rf_a, rf_p, rf_r], X_test, y_test)"
   ]
  },
  {
   "cell_type": "markdown",
   "metadata": {},
   "source": [
    "## Logistic Regression\n",
    "Use one-hot encoded data."
   ]
  },
  {
   "cell_type": "code",
   "execution_count": 18,
   "metadata": {
    "collapsed": false
   },
   "outputs": [
    {
     "name": "stdout",
     "output_type": "stream",
     "text": [
      "size of training data:  107027, 560\n",
      "size of test data:       45869, 560\n",
      "\n",
      "y_train==0:  98399,  y_train==1: 8628,  balance: 0.9194\n",
      "y_test==0:   42130,  y_test==1:  3739,  balance: 0.9185\n"
     ]
    }
   ],
   "source": [
    "X_ohe = ohe_data.drop('savings', axis=1)\n",
    "y_ohe = ohe_data.loc[:,'savings']\n",
    "\n",
    "X_ohe_train, X_ohe_test, y_ohe_train, y_ohe_test = get_train_test_data_sets(X_ohe, y_ohe)\n"
   ]
  },
  {
   "cell_type": "code",
   "execution_count": 19,
   "metadata": {
    "collapsed": false
   },
   "outputs": [],
   "source": [
    "parameters = {'penalty': ['l1', 'l2'], 'C': [1.0, 0.5, 0.1, 0.05, 0.01, 0.005]}\n",
    "\n",
    "#parameters = {'penalty': ['l1'], 'C': [0.1]}"
   ]
  },
  {
   "cell_type": "code",
   "execution_count": 20,
   "metadata": {
    "collapsed": false
   },
   "outputs": [
    {
     "name": "stdout",
     "output_type": "stream",
     "text": [
      "Fitting 3 folds for each of 12 candidates, totalling 36 fits\n",
      "Best parameters on training set:\n",
      "{'penalty': 'l1', 'C': 0.5}\n",
      "\n",
      "Best score = 0.9375\n",
      "\n",
      "Grid scores on training set:\n",
      "\n",
      "0.9374 (+/-0.0027) for {'penalty': 'l1', 'C': 1.0}\n",
      "0.9372 (+/-0.0027) for {'penalty': 'l2', 'C': 1.0}\n",
      "0.9375 (+/-0.0030) for {'penalty': 'l1', 'C': 0.5}\n",
      "0.9369 (+/-0.0025) for {'penalty': 'l2', 'C': 0.5}\n",
      "0.9371 (+/-0.0026) for {'penalty': 'l1', 'C': 0.1}\n",
      "0.9355 (+/-0.0022) for {'penalty': 'l2', 'C': 0.1}\n",
      "0.9359 (+/-0.0016) for {'penalty': 'l1', 'C': 0.05}\n",
      "0.9349 (+/-0.0022) for {'penalty': 'l2', 'C': 0.05}\n",
      "0.9287 (+/-0.0016) for {'penalty': 'l1', 'C': 0.01}\n",
      "0.9316 (+/-0.0014) for {'penalty': 'l2', 'C': 0.01}\n",
      "0.9206 (+/-0.0001) for {'penalty': 'l1', 'C': 0.005}\n",
      "0.9290 (+/-0.0007) for {'penalty': 'l2', 'C': 0.005}\n",
      "\n",
      "Confusion matrix:\n",
      "\t          prediction 0    prediction 1\n",
      "\tclass 0      41,584            546\n",
      "\tclass 1       2,374          1,365\n",
      "\n",
      "Classification report:\n",
      "             precision    recall  f1-score   support\n",
      "\n",
      "          0    0.94599   0.98704   0.96608     42130\n",
      "          1    0.71429   0.36507   0.48319      3739\n",
      "\n",
      "avg / total    0.92711   0.93634   0.92672     45869\n",
      "\n"
     ]
    },
    {
     "name": "stderr",
     "output_type": "stream",
     "text": [
      "[Parallel(n_jobs=1)]: Done  36 out of  36 | elapsed:  4.6min finished\n"
     ]
    }
   ],
   "source": [
    "lr_a = run_grid_search(LogisticRegression(), parameters, \n",
    "                       X_ohe_train, y_ohe_train, X_ohe_test, y_ohe_test,\n",
    "                       score='accuracy', verbose=1, print_grid_scores=True)"
   ]
  },
  {
   "cell_type": "code",
   "execution_count": 21,
   "metadata": {
    "collapsed": false
   },
   "outputs": [
    {
     "name": "stdout",
     "output_type": "stream",
     "text": [
      "Fitting 3 folds for each of 12 candidates, totalling 36 fits\n",
      "Best parameters on training set:\n",
      "{'penalty': 'l1', 'C': 0.01}\n",
      "\n",
      "Best score = 0.7717\n",
      "\n",
      "Grid scores on training set:\n",
      "\n",
      "0.7125 (+/-0.0253) for {'penalty': 'l1', 'C': 1.0}\n",
      "0.7124 (+/-0.0237) for {'penalty': 'l2', 'C': 1.0}\n",
      "0.7165 (+/-0.0277) for {'penalty': 'l1', 'C': 0.5}\n",
      "0.7131 (+/-0.0241) for {'penalty': 'l2', 'C': 0.5}\n",
      "0.7334 (+/-0.0302) for {'penalty': 'l1', 'C': 0.1}\n",
      "0.7147 (+/-0.0258) for {'penalty': 'l2', 'C': 0.1}\n",
      "0.7386 (+/-0.0227) for {'penalty': 'l1', 'C': 0.05}\n",
      "0.7198 (+/-0.0310) for {'penalty': 'l2', 'C': 0.05}\n",
      "0.7717 (+/-0.0410) for {'penalty': 'l1', 'C': 0.01}\n",
      "0.7339 (+/-0.0280) for {'penalty': 'l2', 'C': 0.01}\n",
      "0.7654 (+/-0.0995) for {'penalty': 'l1', 'C': 0.005}\n",
      "0.7454 (+/-0.0101) for {'penalty': 'l2', 'C': 0.005}\n",
      "\n",
      "Confusion matrix:\n",
      "\t          prediction 0    prediction 1\n",
      "\tclass 0      41,856            274\n",
      "\tclass 1       2,896            843\n",
      "\n",
      "Classification report:\n",
      "             precision    recall  f1-score   support\n",
      "\n",
      "          0    0.93529   0.99350   0.96351     42130\n",
      "          1    0.75470   0.22546   0.34720      3739\n",
      "\n",
      "avg / total    0.92057   0.93089   0.91328     45869\n",
      "\n"
     ]
    },
    {
     "name": "stderr",
     "output_type": "stream",
     "text": [
      "[Parallel(n_jobs=1)]: Done  36 out of  36 | elapsed:  4.6min finished\n"
     ]
    }
   ],
   "source": [
    "lr_p = run_grid_search(LogisticRegression(), parameters, \n",
    "                       X_ohe_train, y_ohe_train, X_ohe_test, y_ohe_test,\n",
    "                       score='precision', verbose=1, print_grid_scores=True)"
   ]
  },
  {
   "cell_type": "code",
   "execution_count": 22,
   "metadata": {
    "collapsed": false
   },
   "outputs": [
    {
     "name": "stdout",
     "output_type": "stream",
     "text": [
      "Fitting 3 folds for each of 12 candidates, totalling 36 fits\n",
      "Best parameters on training set:\n",
      "{'penalty': 'l1', 'C': 1.0}\n",
      "\n",
      "Best score = 0.3747\n",
      "\n",
      "Grid scores on training set:\n",
      "\n",
      "0.3747 (+/-0.0267) for {'penalty': 'l1', 'C': 1.0}\n",
      "0.3704 (+/-0.0270) for {'penalty': 'l2', 'C': 1.0}\n",
      "0.3709 (+/-0.0278) for {'penalty': 'l1', 'C': 0.5}\n",
      "0.3628 (+/-0.0236) for {'penalty': 'l2', 'C': 0.5}\n",
      "0.3462 (+/-0.0206) for {'penalty': 'l1', 'C': 0.1}\n",
      "0.3336 (+/-0.0185) for {'penalty': 'l2', 'C': 0.1}\n",
      "0.3168 (+/-0.0138) for {'penalty': 'l1', 'C': 0.05}\n",
      "0.3144 (+/-0.0145) for {'penalty': 'l2', 'C': 0.05}\n",
      "0.1650 (+/-0.0185) for {'penalty': 'l1', 'C': 0.01}\n",
      "0.2379 (+/-0.0149) for {'penalty': 'l2', 'C': 0.01}\n",
      "0.0218 (+/-0.0066) for {'penalty': 'l1', 'C': 0.005}\n",
      "0.1821 (+/-0.0144) for {'penalty': 'l2', 'C': 0.005}\n",
      "\n",
      "Confusion matrix:\n",
      "\t          prediction 0    prediction 1\n",
      "\tclass 0      41,574            556\n",
      "\tclass 1       2,362          1,377\n",
      "\n",
      "Classification report:\n",
      "             precision    recall  f1-score   support\n",
      "\n",
      "          0    0.94624   0.98680   0.96610     42130\n",
      "          1    0.71236   0.36828   0.48554      3739\n",
      "\n",
      "avg / total    0.92718   0.93638   0.92692     45869\n",
      "\n"
     ]
    },
    {
     "name": "stderr",
     "output_type": "stream",
     "text": [
      "[Parallel(n_jobs=1)]: Done  36 out of  36 | elapsed:  4.6min finished\n"
     ]
    }
   ],
   "source": [
    "lr_r = run_grid_search(LogisticRegression(),  parameters, \n",
    "                       X_ohe_train, y_ohe_train, X_ohe_test, y_ohe_test ,\n",
    "                       score='recall', verbose=1, print_grid_scores=True)"
   ]
  },
  {
   "cell_type": "code",
   "execution_count": 23,
   "metadata": {
    "collapsed": false
   },
   "outputs": [
    {
     "data": {
      "image/png": "[encoded data removed]",
      "text/plain": [
       "<matplotlib.figure.Figure at 0x1736f51d0>"
      ]
     },
     "metadata": {},
     "output_type": "display_data"
    }
   ],
   "source": [
    "plot_roc_curves([lr_a, lr_p, lr_r], X_ohe_test, y_ohe_test)"
   ]
  },
  {
   "cell_type": "code",
   "execution_count": null,
   "metadata": {
    "collapsed": true
   },
   "outputs": [],
   "source": []
  },
  {
   "cell_type": "markdown",
   "metadata": {},
   "source": [
    "## Incorporate Some Feature Engineering\n",
    "Start with the column \"detailed_household_family_stat\" and convert the classes that have no savings greater than 50K into one class."
   ]
  },
  {
   "cell_type": "code",
   "execution_count": 24,
   "metadata": {
    "collapsed": false
   },
   "outputs": [],
   "source": [
    "def update_column(column):\n",
    "    dhfs = data[column][data['savings'] == 1].unique()\n",
    "    dhfs.sort()\n",
    "    print 'unique values for svngs = 1', dhfs\n",
    "    dhfs_all = data[column].unique()\n",
    "    dhfs_all.sort()\n",
    "    print 'unique values for all vals ', dhfs_all\n",
    "    \n",
    "    diff = set(dhfs_all).difference(set(dhfs))\n",
    "    print ' the differences are........', diff\n",
    "    if diff is None:\n",
    "        print '\\n diff is empty'\n",
    "        return data[column]\n",
    "    \n",
    "    print ' len(diff)', len(diff)\n",
    "    \n",
    "    val = max(diff) + 1\n",
    "    print ' mapping values to:', val\n",
    "    return data[column].map(lambda x : val if x in diff else x)\n"
   ]
  },
  {
   "cell_type": "code",
   "execution_count": 25,
   "metadata": {
    "collapsed": false
   },
   "outputs": [
    {
     "name": "stdout",
     "output_type": "stream",
     "text": [
      "(38,)\n",
      "unique values for svngs = 1 [ 0  1  2  3  4  5  6  7 10 11 12 15 16 17 18 19 22 28 30]\n",
      "unique values for all vals  [ 0  1  2  3  4  5  6  7  8  9 10 11 12 13 14 15 16 17 18 19 20 21 22 23 24\n",
      " 25 26 27 28 29 30 31 32 33 34 35 36 37]\n",
      " the differences are........ set([32, 33, 34, 35, 36, 37, 8, 9, 13, 14, 20, 21, 23, 24, 25, 26, 27, 29, 31])\n",
      " len(diff) 19\n",
      " mapping values to: 38\n",
      "(20,)\n"
     ]
    }
   ],
   "source": [
    "print data['detailed_household_family_stat'][data['savings']==0].value_counts().shape\n",
    "data['detailed_household_family_stat'] = update_column('detailed_household_family_stat')\n",
    "print data['detailed_household_family_stat'][data['savings']==0].value_counts().shape\n"
   ]
  },
  {
   "cell_type": "code",
   "execution_count": 26,
   "metadata": {
    "collapsed": false
   },
   "outputs": [
    {
     "name": "stdout",
     "output_type": "stream",
     "text": [
      "(5,)\n",
      "unique values for svngs = 1 [0 1]\n",
      "unique values for all vals  [0 1 2 3 4]\n",
      " the differences are........ set([2, 3, 4])\n",
      " len(diff) 3\n",
      " mapping values to: 5\n",
      "(3,)\n"
     ]
    }
   ],
   "source": [
    "print data['family_members_under_18'][data['savings']==0].value_counts().shape\n",
    "data['family_members_under_18'] = update_column('family_members_under_18')\n",
    "print data['family_members_under_18'][data['savings']==0].value_counts().shape\n"
   ]
  },
  {
   "cell_type": "code",
   "execution_count": 27,
   "metadata": {
    "collapsed": false
   },
   "outputs": [
    {
     "name": "stdout",
     "output_type": "stream",
     "text": [
      "confusion matrix:\n",
      "\t          prediction 0    prediction 1\n",
      "\tclass 0      41,315            815\n",
      "\tclass 1       2,100          1,639\n",
      "\n",
      "Detailed classification report:\n",
      "             precision    recall  f1-score   support\n",
      "\n",
      "          0    0.95163   0.98066   0.96592     42130\n",
      "          1    0.66789   0.43835   0.52931      3739\n",
      "\n",
      "avg / total    0.92850   0.93645   0.93033     45869\n",
      "\n"
     ]
    }
   ],
   "source": [
    "rf_clf = RandomForestClassifier(n_estimators = 40, max_depth=None, max_features=40, min_samples_split=1)\n",
    "rf_clf.fit(X_train, y_train)\n",
    "\n",
    "y_pred = rf_clf.predict(X_test)\n",
    "\n",
    "print 'confusion matrix:'\n",
    "print_confusion_matrix(y_test, y_pred)\n",
    "print '\\nDetailed classification report:'\n",
    "print classification_report(y_test, y_pred, digits=5)"
   ]
  },
  {
   "cell_type": "code",
   "execution_count": null,
   "metadata": {
    "collapsed": true
   },
   "outputs": [],
   "source": []
  },
  {
   "cell_type": "code",
   "execution_count": null,
   "metadata": {
    "collapsed": true
   },
   "outputs": [],
   "source": []
  },
  {
   "cell_type": "markdown",
   "metadata": {
    "collapsed": true
   },
   "source": [
    "## PCA "
   ]
  },
  {
   "cell_type": "code",
   "execution_count": 28,
   "metadata": {
    "collapsed": false
   },
   "outputs": [],
   "source": [
    "# Fit and transform x to visualise inside a 2D feature space\n",
    "\n",
    "pca = PCA(n_components=2)\n"
   ]
  },
  {
   "cell_type": "code",
   "execution_count": 29,
   "metadata": {
    "collapsed": false
   },
   "outputs": [],
   "source": [
    "def scatter_plot(X, y):\n",
    "    assert isinstance(y, np.ndarray), \"y needs to be numpy.ndarray\"\n",
    "    data_vis = pca.fit_transform(X)\n",
    "    yeq0 = data_vis[ y==0 ]\n",
    "    yeq1 = data_vis[ (y==1) ]\n",
    "    fig=plt.figure(figsize=(9,9));\n",
    "    ax = fig.gca();\n",
    "    ax.scatter(yeq0[:, 0], yeq0[:, 1], label=\"Savings < 50K\", alpha=0.7, c='r', edgecolors='face');\n",
    "    ax.scatter(yeq1[:, 0], yeq1[:, 1], label=\"Savings > 50K\", alpha=0.3, c='b', edgecolors='face');\n",
    "    ax.legend(fontsize=16, loc='lower left', bbox_to_anchor=(1,0.8));\n",
    "    return ax"
   ]
  },
  {
   "cell_type": "code",
   "execution_count": 30,
   "metadata": {
    "collapsed": false
   },
   "outputs": [
    {
     "data": {
      "image/png": "[encoded data removed]",
      "text/plain": [
       "<matplotlib.figure.Figure at 0x1736f5490>"
      ]
     },
     "metadata": {},
     "output_type": "display_data"
    }
   ],
   "source": [
    "ax = scatter_plot(X, y.as_matrix());"
   ]
  },
  {
   "cell_type": "code",
   "execution_count": null,
   "metadata": {
    "collapsed": false
   },
   "outputs": [],
   "source": []
  },
  {
   "cell_type": "code",
   "execution_count": null,
   "metadata": {
    "collapsed": true
   },
   "outputs": [],
   "source": []
  },
  {
   "cell_type": "code",
   "execution_count": null,
   "metadata": {
    "collapsed": false
   },
   "outputs": [],
   "source": []
  },
  {
   "cell_type": "markdown",
   "metadata": {
    "collapsed": true
   },
   "source": [
    "## Class Imbalance: Random Under-Sampling"
   ]
  },
  {
   "cell_type": "code",
   "execution_count": 31,
   "metadata": {
    "collapsed": false
   },
   "outputs": [],
   "source": [
    "from imblearn.under_sampling import RandomUnderSampler"
   ]
  },
  {
   "cell_type": "code",
   "execution_count": 32,
   "metadata": {
    "collapsed": false
   },
   "outputs": [
    {
     "name": "stdout",
     "output_type": "stream",
     "text": [
      "The new shapes are: 24734, 40\n",
      "usy==0:  12367,  usy==1: 12367,  balance: 0.5000\n"
     ]
    }
   ],
   "source": [
    "# 'Random under-sampling'\n",
    "US = RandomUnderSampler()\n",
    "usx, usy = US.fit_sample(X, y)\n",
    "print 'The new shapes are: {:d}, {:d}'.format(usx.shape[0], usx.shape[1])\n",
    "\n",
    "n0, n1 = (usy == 0).sum(), (usy == 1).sum()\n",
    "print 'usy==0: {:6d},  usy==1: {:4d},  balance: {:.4f}'.format(n0, n1, float(n0)/(n0+n1))"
   ]
  },
  {
   "cell_type": "code",
   "execution_count": 33,
   "metadata": {
    "collapsed": false
   },
   "outputs": [
    {
     "data": {
      "image/png": "[encoded data removed]",
      "text/plain": [
       "<matplotlib.figure.Figure at 0x11dcfedd0>"
      ]
     },
     "metadata": {},
     "output_type": "display_data"
    }
   ],
   "source": [
    "ax = scatter_plot(usx, usy);"
   ]
  },
  {
   "cell_type": "code",
   "execution_count": 34,
   "metadata": {
    "collapsed": false
   },
   "outputs": [
    {
     "name": "stdout",
     "output_type": "stream",
     "text": [
      "size of training data:   17313,  40\n",
      "size of test data:        7421,  40\n",
      "\n",
      "y_train==0:   8655,  y_train==1: 8658,  balance: 0.4999\n",
      "y_test==0:    3712,  y_test==1:  3709,  balance: 0.5002\n"
     ]
    }
   ],
   "source": [
    "usx_train, usx_test, usy_train, usy_test = get_train_test_data_sets(usx, usy)"
   ]
  },
  {
   "cell_type": "code",
   "execution_count": 51,
   "metadata": {
    "collapsed": false
   },
   "outputs": [
    {
     "data": {
      "text/plain": [
       "{'max_depth': [None],\n",
       " 'max_features': ['sqrt'],\n",
       " 'min_samples_split': [2],\n",
       " 'n_estimators': [640]}"
      ]
     },
     "execution_count": 51,
     "metadata": {},
     "output_type": "execute_result"
    }
   ],
   "source": [
    "# take best parameters from random forest (accuracy score)\n",
    "# (need to convert to dictionary of lists)\n",
    "params = {k:[v] for (k,v) in rf_a.best_params_.iteritems()}\n",
    "print params"
   ]
  },
  {
   "cell_type": "code",
   "execution_count": 52,
   "metadata": {
    "collapsed": false
   },
   "outputs": [
    {
     "name": "stdout",
     "output_type": "stream",
     "text": [
      "Fitting 3 folds for each of 1 candidates, totalling 3 fits\n",
      "Best parameters on training set:\n",
      "{'max_features': 'sqrt', 'min_samples_split': 2, 'n_estimators': 640, 'max_depth': None}\n",
      "\n",
      "Best score = 0.8619\n",
      "\n",
      "Confusion matrix:\n",
      "\t          prediction 0    prediction 1\n",
      "\tclass 0       3,171            541\n",
      "\tclass 1         517          3,192\n",
      "\n",
      "Classification report:\n",
      "             precision    recall  f1-score   support\n",
      "\n",
      "          0    0.85982   0.85426   0.85703      3712\n",
      "          1    0.85508   0.86061   0.85783      3709\n",
      "\n",
      "avg / total    0.85745   0.85743   0.85743      7421\n",
      "\n"
     ]
    },
    {
     "name": "stderr",
     "output_type": "stream",
     "text": [
      "[Parallel(n_jobs=1)]: Done   3 out of   3 | elapsed:   35.7s finished\n"
     ]
    }
   ],
   "source": [
    "rfus_r = run_grid_search(RandomForestClassifier(), params,\n",
    "                       usx_train, usy_train, usx_test, usy_test,\n",
    "                       score='recall', verbose=1)"
   ]
  },
  {
   "cell_type": "code",
   "execution_count": 55,
   "metadata": {
    "collapsed": false
   },
   "outputs": [
    {
     "name": "stdout",
     "output_type": "stream",
     "text": [
      "Confusion matrix:\n",
      "\t          prediction 0    prediction 1\n",
      "\tclass 0      35,544          6,586\n",
      "\tclass 1         175          3,564\n",
      "\n",
      "Classification report:\n",
      "             precision    recall  f1-score   support\n",
      "\n",
      "          0    0.99510   0.84367   0.91315     42130\n",
      "          1    0.35113   0.95320   0.51321      3739\n",
      "\n",
      "avg / total    0.94261   0.85260   0.88055     45869\n",
      "\n"
     ]
    }
   ],
   "source": [
    "y_pred = rfus_r.predict(X_test)\n",
    "    \n",
    "print 'Confusion matrix:'\n",
    "print_confusion_matrix(y_test, y_pred)\n",
    "print '\\nClassification report:'\n",
    "print classification_report(y_test, y_pred, digits=5)"
   ]
  },
  {
   "cell_type": "markdown",
   "metadata": {
    "collapsed": false
   },
   "source": [
    "## Class Imbalance: Tomek Links"
   ]
  },
  {
   "cell_type": "code",
   "execution_count": 70,
   "metadata": {
    "collapsed": true
   },
   "outputs": [],
   "source": [
    "from imblearn.under_sampling import TomekLinks"
   ]
  },
  {
   "cell_type": "code",
   "execution_count": 72,
   "metadata": {
    "collapsed": false
   },
   "outputs": [
    {
     "name": "stdout",
     "output_type": "stream",
     "text": [
      "The new shapes are: 149929, 40\n",
      "usy==0: 137562,  usy==1: 12367,  balance: 0.9175\n"
     ]
    }
   ],
   "source": [
    "TL = TomekLinks()\n",
    "tlx, tly = TL.fit_sample(X, y)\n",
    "\n",
    "print 'The new shapes are: {:d}, {:d}'.format(tlx.shape[0], tlx.shape[1])\n",
    "n0, n1 = (tly == 0).sum(), (tly == 1).sum()\n",
    "print 'usy==0: {:6d},  usy==1: {:4d},  balance: {:.4f}'.format(n0, n1, float(n0)/(n0+n1))"
   ]
  },
  {
   "cell_type": "code",
   "execution_count": 73,
   "metadata": {
    "collapsed": false
   },
   "outputs": [
    {
     "name": "stdout",
     "output_type": "stream",
     "text": [
      "size of training data:  104950,  40\n",
      "size of test data:       44979,  40\n",
      "\n",
      "y_train==0:  96379,  y_train==1: 8571,  balance: 0.9183\n",
      "y_test==0:   41183,  y_test==1:  3796,  balance: 0.9156\n"
     ]
    }
   ],
   "source": [
    "tlx_train, tlx_test, tly_train, tly_test = get_train_test_data_sets(tlx, tly)"
   ]
  },
  {
   "cell_type": "code",
   "execution_count": 74,
   "metadata": {
    "collapsed": false
   },
   "outputs": [
    {
     "name": "stdout",
     "output_type": "stream",
     "text": [
      "{'max_features': ['sqrt'], 'min_samples_split': [2], 'n_estimators': [640], 'max_depth': [None]}\n"
     ]
    }
   ],
   "source": [
    "# take best parameters from random forest (accuracy score)\n",
    "# (need to convert to dictionary of lists)\n",
    "params = {k:[v] for (k,v) in rf_a.best_params_.iteritems()}\n",
    "print params"
   ]
  },
  {
   "cell_type": "code",
   "execution_count": 75,
   "metadata": {
    "collapsed": false
   },
   "outputs": [
    {
     "name": "stdout",
     "output_type": "stream",
     "text": [
      "Fitting 3 folds for each of 1 candidates, totalling 3 fits\n",
      "Best parameters on training set:\n",
      "{'max_features': 'sqrt', 'min_samples_split': 2, 'n_estimators': 640, 'max_depth': None}\n",
      "\n",
      "Best score = 0.4579\n",
      "\n",
      "Confusion matrix:\n",
      "\t          prediction 0    prediction 1\n",
      "\tclass 0      40,705            478\n",
      "\tclass 1       2,102          1,694\n",
      "\n",
      "Classification report:\n",
      "             precision    recall  f1-score   support\n",
      "\n",
      "          0    0.95090   0.98839   0.96928     41183\n",
      "          1    0.77993   0.44626   0.56769      3796\n",
      "\n",
      "avg / total    0.93647   0.94264   0.93539     44979\n",
      "\n"
     ]
    },
    {
     "name": "stderr",
     "output_type": "stream",
     "text": [
      "[Parallel(n_jobs=1)]: Done   3 out of   3 | elapsed:  4.8min finished\n"
     ]
    }
   ],
   "source": [
    "rftl_r = run_grid_search(RandomForestClassifier(), params,\n",
    "                         tlx_train, tly_train, tlx_test, tly_test,\n",
    "                         score='recall', verbose=1)"
   ]
  },
  {
   "cell_type": "code",
   "execution_count": 76,
   "metadata": {
    "collapsed": false
   },
   "outputs": [
    {
     "name": "stdout",
     "output_type": "stream",
     "text": [
      "Confusion matrix:\n",
      "\t          prediction 0    prediction 1\n",
      "\tclass 0      41,800            330\n",
      "\tclass 1         634          3,105\n",
      "\n",
      "Classification report:\n",
      "             precision    recall  f1-score   support\n",
      "\n",
      "          0    0.98506   0.99217   0.98860     42130\n",
      "          1    0.90393   0.83044   0.86563      3739\n",
      "\n",
      "avg / total    0.97845   0.97898   0.97858     45869\n",
      "\n"
     ]
    }
   ],
   "source": [
    "y_pred = rftl_r.predict(X_test)\n",
    "    \n",
    "print 'Confusion matrix:'\n",
    "print_confusion_matrix(y_test, y_pred)\n",
    "print '\\nClassification report:'\n",
    "print classification_report(y_test, y_pred, digits=5)"
   ]
  },
  {
   "cell_type": "code",
   "execution_count": null,
   "metadata": {
    "collapsed": true
   },
   "outputs": [],
   "source": []
  },
  {
   "cell_type": "code",
   "execution_count": null,
   "metadata": {
    "collapsed": true
   },
   "outputs": [],
   "source": []
  },
  {
   "cell_type": "markdown",
   "metadata": {},
   "source": [
    "## Class Imbalance: Random Over Sampling"
   ]
  },
  {
   "cell_type": "code",
   "execution_count": 57,
   "metadata": {
    "collapsed": false
   },
   "outputs": [],
   "source": [
    "from imblearn.over_sampling import RandomOverSampler"
   ]
  },
  {
   "cell_type": "code",
   "execution_count": 60,
   "metadata": {
    "collapsed": false
   },
   "outputs": [
    {
     "name": "stdout",
     "output_type": "stream",
     "text": [
      "The new shapes are: 281058, 40\n",
      "usy==0: 140529,  usy==1: 140529,  balance: 0.5000\n"
     ]
    }
   ],
   "source": [
    "# 'Random over-sampling'\n",
    "OS = RandomOverSampler(ratio='auto')\n",
    "osx, osy = OS.fit_sample(X, y)\n",
    "\n",
    "print 'The new shapes are: {:d}, {:d}'.format(osx.shape[0], osx.shape[1])\n",
    "\n",
    "n0, n1 = (osy == 0).sum(), (osy == 1).sum()\n",
    "print 'usy==0: {:6d},  usy==1: {:4d},  balance: {:.4f}'.format(n0, n1, float(n0)/(n0+n1))\n"
   ]
  },
  {
   "cell_type": "code",
   "execution_count": 66,
   "metadata": {
    "collapsed": false
   },
   "outputs": [
    {
     "name": "stdout",
     "output_type": "stream",
     "text": [
      "size of training data:  196740,  40\n",
      "size of test data:       84318,  40\n",
      "\n",
      "y_train==0:  98319,  y_train==1: 98421,  balance: 0.4997\n",
      "y_test==0:   42210,  y_test==1:  42108,  balance: 0.5006\n"
     ]
    }
   ],
   "source": [
    "osx_train, osx_test, osy_train, osy_test = get_train_test_data_sets(osx, osy)\n"
   ]
  },
  {
   "cell_type": "code",
   "execution_count": 67,
   "metadata": {
    "collapsed": false
   },
   "outputs": [
    {
     "name": "stdout",
     "output_type": "stream",
     "text": [
      "{'max_features': ['sqrt'], 'min_samples_split': [2], 'n_estimators': [640], 'max_depth': [None]}\n"
     ]
    }
   ],
   "source": [
    "# take best parameters from random forest (accuracy score)\n",
    "# (need to convert to dictionary of lists)\n",
    "params = {k:[v] for (k,v) in rf_a.best_params_.iteritems()}\n",
    "print params"
   ]
  },
  {
   "cell_type": "code",
   "execution_count": 68,
   "metadata": {
    "collapsed": false
   },
   "outputs": [
    {
     "name": "stdout",
     "output_type": "stream",
     "text": [
      "Fitting 3 folds for each of 1 candidates, totalling 3 fits\n",
      "Best parameters on training set:\n",
      "{'max_features': 'sqrt', 'min_samples_split': 2, 'n_estimators': 640, 'max_depth': None}\n",
      "\n",
      "Best score = 0.9983\n",
      "\n",
      "Confusion matrix:\n",
      "\t          prediction 0    prediction 1\n",
      "\tclass 0      40,590          1,620\n",
      "\tclass 1           0         42,108\n",
      "\n",
      "Classification report:\n",
      "             precision    recall  f1-score   support\n",
      "\n",
      "          0    1.00000   0.96162   0.98043     42210\n",
      "          1    0.96295   1.00000   0.98113     42108\n",
      "\n",
      "avg / total    0.98150   0.98079   0.98078     84318\n",
      "\n"
     ]
    },
    {
     "name": "stderr",
     "output_type": "stream",
     "text": [
      "[Parallel(n_jobs=1)]: Done   3 out of   3 | elapsed:  9.5min finished\n"
     ]
    }
   ],
   "source": [
    "rfos_r = run_grid_search(RandomForestClassifier(), params,\n",
    "                         osx_train, osy_train, osx_test, osy_test,\n",
    "                         score='recall', verbose=1)"
   ]
  },
  {
   "cell_type": "code",
   "execution_count": 69,
   "metadata": {
    "collapsed": false
   },
   "outputs": [
    {
     "ename": "NameError",
     "evalue": "name 'rfos_r' is not defined",
     "output_type": "error",
     "traceback": [
      "\u001b[0;31m---------------------------------------------------------------------------\u001b[0m",
      "\u001b[0;31mNameError\u001b[0m                                 Traceback (most recent call last)",
      "\u001b[0;32m<ipython-input-69-3ff0e5b3d934>\u001b[0m in \u001b[0;36m<module>\u001b[0;34m()\u001b[0m\n\u001b[0;32m----> 1\u001b[0;31m \u001b[0my_pred\u001b[0m \u001b[0;34m=\u001b[0m \u001b[0mrfos_r\u001b[0m\u001b[0;34m.\u001b[0m\u001b[0mpredict\u001b[0m\u001b[0;34m(\u001b[0m\u001b[0mX_test\u001b[0m\u001b[0;34m)\u001b[0m\u001b[0;34m\u001b[0m\u001b[0m\n\u001b[0m\u001b[1;32m      2\u001b[0m \u001b[0;34m\u001b[0m\u001b[0m\n\u001b[1;32m      3\u001b[0m \u001b[0;32mprint\u001b[0m \u001b[0;34m'Confusion matrix:'\u001b[0m\u001b[0;34m\u001b[0m\u001b[0m\n\u001b[1;32m      4\u001b[0m \u001b[0mprint_confusion_matrix\u001b[0m\u001b[0;34m(\u001b[0m\u001b[0my_test\u001b[0m\u001b[0;34m,\u001b[0m \u001b[0my_pred\u001b[0m\u001b[0;34m)\u001b[0m\u001b[0;34m\u001b[0m\u001b[0m\n\u001b[1;32m      5\u001b[0m \u001b[0;32mprint\u001b[0m \u001b[0;34m'\\nClassification report:'\u001b[0m\u001b[0;34m\u001b[0m\u001b[0m\n",
      "\u001b[0;31mNameError\u001b[0m: name 'rfos_r' is not defined"
     ]
    }
   ],
   "source": [
    "y_pred = rfos_r.predict(X_test)\n",
    "    \n",
    "print 'Confusion matrix:'\n",
    "print_confusion_matrix(y_test, y_pred)\n",
    "print '\\nClassification report:'\n",
    "print classification_report(y_test, y_pred, digits=5)"
   ]
  },
  {
   "cell_type": "code",
   "execution_count": null,
   "metadata": {
    "collapsed": true
   },
   "outputs": [],
   "source": []
  },
  {
   "cell_type": "code",
   "execution_count": null,
   "metadata": {
    "collapsed": true
   },
   "outputs": [],
   "source": []
  },
  {
   "cell_type": "code",
   "execution_count": null,
   "metadata": {
    "collapsed": true
   },
   "outputs": [],
   "source": []
  },
  {
   "cell_type": "code",
   "execution_count": null,
   "metadata": {
    "collapsed": true
   },
   "outputs": [],
   "source": []
  },
  {
   "cell_type": "code",
   "execution_count": null,
   "metadata": {
    "collapsed": true
   },
   "outputs": [],
   "source": []
  }
 ],
 "metadata": {
  "kernelspec": {
   "display_name": "Python 2",
   "language": "python",
   "name": "python2"
  },
  "language_info": {
   "codemirror_mode": {
    "name": "ipython",
    "version": 2
   },
   "file_extension": ".py",
   "mimetype": "text/x-python",
   "name": "python",
   "nbconvert_exporter": "python",
   "pygments_lexer": "ipython2",
   "version": "2.7.11"
  }
 },
 "nbformat": 4,
 "nbformat_minor": 0
}
