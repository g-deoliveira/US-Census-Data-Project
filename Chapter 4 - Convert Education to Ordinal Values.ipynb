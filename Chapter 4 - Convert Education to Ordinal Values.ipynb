{
 "cells": [
  {
   "cell_type": "markdown",
   "metadata": {},
   "source": [
    "# Chapter 4: Convert Education to Ordinal Values\n",
    "Guilherme de Oliveira <br>\n",
    "9/27/2016"
   ]
  },
  {
   "cell_type": "markdown",
   "metadata": {},
   "source": [
    "I received an interesting suggestion regarding the <b><i>education</b></i> feature. Since the values for <b><i>education</i></b> have an implied ranking (eg 10th grade > 3rd grade), why not take the ranking into consideration and convert the string values to ordinal values rather than nominal values, as done in <b>Chapter 1</b>? The idea is that the trees in the random forest will produce improved results since they will be exploiting that ordering. I investigate this here.\n",
    "<br>\n",
    "<br>\n",
    "The work is split up in the following sections:\n",
    "<ol>\n",
    "<li> <b>Load and Preprocess Training Data</b><br>\n",
    "Use the same overall strategy employed in <b>Chapter 1</b> to load the data, remove duplicates, convert boolean columns to integer, etc... The only difference is that I am going to consider three data sets. The first data set contains important features, the second contains unimportant features and the third contains all features. The idea here is to use smaller subsets in the investigation.\n",
    "<ol>\n",
    "<li> the <b><i>important data set</i></b>: contains the most important features found via random forest feature importance in <b>Chapter 1</b>, eg: capital_gains, detailed_occupation_code, dividends, sex, major_occupation_code, capital_losses, weeks_worked_in_year, age, num_persons_worked_for_employer and of course, education.\n",
    "<li> the <b><i>useless data set</i></b>: contains the features with zero coefficients found via logistic regression with L1 regularization in <b>Chapter 1</b>, eg: detailed_household_family_stat, cob_father, cob_self, cob_mother, migration_code_move_within_reg, migration_code_change_in_reg, migration_code_change_in_msa, migration_prev_res_in_sunbelt, state_of_previous_residence, and year, to which I will tack on education.\n",
    "<li> the <b><i>full data set</i></b> containing all features.\n",
    "</ol>\n",
    "<li> <b>Convert Education From String to Integer Categorical and Ordinal</b><br>\n",
    "For the <b><i>important data set</i></b> and the <b><i>useless data set</i></b>, perform the conversion of education twice: using the same method employed in <b>Chapter 1</b>, that is without any ordering and using a pre-defined mapping that takes ranking of educational levels into account.\n",
    "<li> <b> Classification Using Random Forest</b> <br>\n",
    "Using the same methodology employed in <b>Chapter 2</b>, compute random forests for each data set for each mapping of education (there are 6 total), using cross validation and grid search.\n",
    "<li> <b> Conclusion </b> <br>\n",
    "For the <b><i>important data set</i></b>, the accuracy of the random forest is negligeably affected by considering the ranking of educational levels. This is also true for the <b><i>full data set</i></b>, which makes sense since the <b><i>full data set</i></b> is dominated by the features in the <b><i>important data set</i></b>. For the <b><i>useless data set</i></b>, the affect is more pronounced. For example, the recall for the greater than 50K class almost doubled from 4% to 7%. In conclusion, random forest classifiers applied to this particular data set did not show noticeable improvements.\n",
    "\n",
    "After splitting the data for cross-validation, the distribution of positive and negative labels for the **test data** set is given by the following confusion matrix:\n",
    "<table>\n",
    "<tr>  <td> </td> <td align=\"center\"> prediction 0 </td> <td align=\"center\"> prediction 1 </td> </tr>\n",
    "<tr> <td> class 0 </td> <td align='center'> 42,215 </td> <td align=\"center\"> 0 </td> </tr>\n",
    "<tr> <td> class 1 </td> <td align='center'>   0 </td> <td align=\"center\"> 3,654 </td> </tr>\n",
    "</table>\n",
    "\n",
    "The random forest optimized for <b><i>accuracy</i></b>, for the <b><i>important</i></b> data set, and unranked education has the following classification results:\n",
    "<table>\n",
    "<tr>  <td> </td> <td> prediction 0 </td> <td> prediction 1 </td> </tr>\n",
    "<tr> <td> class 0 </td> <td> 41,627 </td> <td> 588 </td>  </tr>\n",
    "<tr> <td> class 1 </td> <td>  2,126 </td> <td> 1,528 </td> </tr>\n",
    "</table>\n",
    "\n",
    "The random forest optimized for <b><i>accuracy</i></b>, for the <b><i>important</i></b> data set, and <b><i>ranked</i></b> education has the following classification results:\n",
    "<table>\n",
    "<tr>  <td> </td> <td> prediction 0 </td> <td> prediction 1 </td> </tr>\n",
    "<tr> <td> class 0 </td> <td> 41,600 </td> <td> 615 </td>  </tr>\n",
    "<tr> <td> class 1 </td> <td>  2,080 </td> <td> 1,574 </td> </tr>\n",
    "</table>\n",
    "\n",
    "The random forest optimized for <b><i>accuracy</i></b>, for the <b><i>useless</i></b> data set, and unranked education has the following classification results:\n",
    "<table>\n",
    "<tr>  <td> </td> <td> prediction 0 </td> <td> prediction 1 </td> </tr>\n",
    "<tr> <td> class 0 </td> <td> 42,085 </td> <td> 130 </td>  </tr>\n",
    "<tr> <td> class 1 </td> <td>  3,504 </td> <td> 150 </td> </tr>\n",
    "</table>\n",
    "\n",
    "The random forest optimized for <b><i>accuracy</i></b>, for the <b><i>useless</i></b> data set, and <b><i>ranked</i></b> education has the following classification results:\n",
    "<table>\n",
    "<tr>  <td> </td> <td> prediction 0 </td> <td> prediction 1 </td> </tr>\n",
    "<tr> <td> class 0 </td> <td> 42,069 </td> <td> 146 </td>  </tr>\n",
    "<tr> <td> class 1 </td> <td>  3,394 </td> <td> 260 </td> </tr>\n",
    "</table>\n",
    "\n",
    "The random forest optimized for <b><i>accuracy</i></b>, for the <b><i>full</i></b> data set, and unranked education has the following classification results:\n",
    "<table>\n",
    "<tr>  <td> </td> <td> prediction 0 </td> <td> prediction 1 </td> </tr>\n",
    "<tr> <td> class 0 </td> <td> 41,626 </td> <td>  589 </td>  </tr>\n",
    "<tr> <td> class 1 </td> <td>  2,097 </td> <td> 1,557 </td> </tr>\n",
    "</table>\n",
    "\n",
    "The random forest optimized for <b><i>accuracy</i></b>, for the <b><i>full</i></b> data set, and <b><i>ranked</i></b> education has the following classification results:\n",
    "<table>\n",
    "<tr>  <td> </td> <td> prediction 0 </td> <td> prediction 1 </td> </tr>\n",
    "<tr> <td> class 0 </td> <td> 41,602 </td> <td>  613 </td>  </tr>\n",
    "<tr> <td> class 1 </td> <td>  2,071 </td> <td> 1,583 </td> </tr>\n",
    "</table>\n",
    "\n",
    "</ol>\n",
    "<br>\n"
   ]
  },
  {
   "cell_type": "code",
   "execution_count": 1,
   "metadata": {
    "collapsed": true
   },
   "outputs": [],
   "source": [
    "import pandas as pd\n",
    "\n",
    "from sklearn.cross_validation import train_test_split\n",
    "from sklearn.grid_search import GridSearchCV\n",
    "\n",
    "from sklearn.ensemble import RandomForestClassifier\n",
    "from sklearn.metrics import confusion_matrix\n",
    "from sklearn.metrics import classification_report"
   ]
  },
  {
   "cell_type": "markdown",
   "metadata": {},
   "source": [
    "## 1. Load and Preprocess Training Data"
   ]
  },
  {
   "cell_type": "code",
   "execution_count": 2,
   "metadata": {
    "collapsed": true
   },
   "outputs": [],
   "source": [
    "# preprocessing function - developped in Chapter 1\n",
    "the_columns  = [('age', 'continuous'), \n",
    "                ('class_of_worker', 'nominal'), \n",
    "                ('detailed_industry_code', 'nominal'), \n",
    "                ('detailed_occupation_code', 'nominal'), \n",
    "                ('education', 'nominal'), \n",
    "                ('wage_per_hour', 'continuous'), \n",
    "                ('enrolled_in_edu_last_week', 'nominal'),\n",
    "                ('marital_status', 'nominal'),\n",
    "                ('major_industry_code', 'nominal'),\n",
    "                ('major_occupation_code', 'nominal'),\n",
    "                ('race', 'nominal'),\n",
    "                ('hispanic_origin', 'nominal'),\n",
    "                ('sex', 'binary'), # binary column with values Male/Female\n",
    "                ('member_of_labor_union', 'nominal'), \n",
    "                ('reason_for_unemployment', 'nominal'),\n",
    "                ('full_or_part_time_employment_stat', 'nominal'),\n",
    "                ('capital_gains', 'continuous'),\n",
    "                ('capital_losses', 'continuous'),\n",
    "                ('dividends', 'continuous'),\n",
    "                ('tax_filer', 'nominal'),\n",
    "                ('region_of_previous_residence', 'nominal'),\n",
    "                ('state_of_previous_residence', 'nominal'),\n",
    "                ('detailed_household_family_stat', 'nominal'),\n",
    "                ('detailed_household_summary', 'nominal'),\n",
    "                ('instance_weight', 'IGNORE'), # as per instructions, to be dropped\n",
    "                ('migration_code_change_in_msa', 'nominal'),\n",
    "                ('migration_code_change_in_reg', 'nominal'),\n",
    "                ('migration_code_move_within_reg', 'nominal'),\n",
    "                ('live_in_this_house_1_yr_ago', 'nominal'),\n",
    "                ('migration_prev_res_in_sunbelt', 'nominal'),\n",
    "                ('num_persons_worked_for_employer', 'continuous'),\n",
    "                ('family_members_under_18', 'nominal'),\n",
    "                ('cob_father', 'nominal'),\n",
    "                ('cob_mother', 'nominal'),\n",
    "                ('cob_self', 'nominal'),\n",
    "                ('citizenship', 'nominal'),\n",
    "                ('own_business_or_self_employed', 'nominal'),\n",
    "                ('fill_in_questionnaire_for_veterans_admin', 'nominal'),\n",
    "                ('veterans_benefits', 'nominal'),\n",
    "                ('weeks_worked_in_year', 'nominal'),\n",
    "                ('year', 'nominal'), \n",
    "                ('savings','target')] # binary TARGET variable\n"
   ]
  },
  {
   "cell_type": "code",
   "execution_count": 3,
   "metadata": {
    "collapsed": false
   },
   "outputs": [
    {
     "name": "stdout",
     "output_type": "stream",
     "text": [
      "\n",
      "The raw data (minus the instance_weight variable) has 199523 rows and 41 columns.\n",
      "As a sanity check, this agrees with the number of lines (199523) obtained using the \"wc -l\" Unix command.\n",
      "\n"
     ]
    }
   ],
   "source": [
    "raw_data = pd.read_csv('us_census_full/census_income_learn.csv', \n",
    "                       names=[c[0] for c in the_columns], \n",
    "                       index_col=False)\n",
    "\n",
    "raw_data.drop('instance_weight', axis=1, inplace=True)\n",
    "\n",
    "original_shape = raw_data.shape\n",
    "print '\\nThe raw data (minus the instance_weight variable) has',\n",
    "print '{:d} rows and {:d} columns.'.format(original_shape[0], original_shape[1])\n",
    "\n",
    "print 'As a sanity check, this agrees with the number of lines (199523) obtained',\n",
    "print 'using the \"wc -l\" Unix command.\\n'\n",
    "assert original_shape[0] == 199523, \"The number of rows is incorrect\"\n",
    "\n",
    "# note the original unaltered file contains 199523 lines as verified using Unix wc command:\n",
    "# > wc -l census_income_learn.csv\n",
    "# 199523"
   ]
  },
  {
   "cell_type": "markdown",
   "metadata": {},
   "source": [
    "### Eliminate Duplicate Rows"
   ]
  },
  {
   "cell_type": "code",
   "execution_count": 4,
   "metadata": {
    "collapsed": false
   },
   "outputs": [
    {
     "name": "stdout",
     "output_type": "stream",
     "text": [
      "\n",
      "number of duplicates = 46627\n",
      "number of duplicates removed = 46627\n",
      "new shape = 152896, 41\n",
      "\n"
     ]
    }
   ],
   "source": [
    "# find the duplicate rows, keep the first one\n",
    "duplicate_rows = raw_data.duplicated(keep='first')\n",
    "\n",
    "print '\\nnumber of duplicates = {:d}'.format(duplicate_rows.sum())\n",
    "raw_data = raw_data.drop_duplicates(keep='first')\n",
    "new_shape =  raw_data.shape\n",
    "print 'number of duplicates removed = {:d}'.format(original_shape[0] - new_shape[0])\n",
    "print 'new shape = {:d}, {:d}\\n'.format(raw_data.shape[0], raw_data.shape[1])"
   ]
  },
  {
   "cell_type": "markdown",
   "metadata": {},
   "source": [
    "### Convert Columns to Boolean Values"
   ]
  },
  {
   "cell_type": "code",
   "execution_count": 5,
   "metadata": {
    "collapsed": false
   },
   "outputs": [],
   "source": [
    "raw_data['savings'] = raw_data['savings'].map(\n",
    "    lambda x: 1 if str(x).strip() == '50000+.' else 0)\n",
    "\n",
    "raw_data['sex'] = raw_data['sex'].map(\n",
    "    lambda x: 1 if str(x).strip() == 'Male' else 0)"
   ]
  },
  {
   "cell_type": "markdown",
   "metadata": {},
   "source": [
    "### Set Up DataFrames\n",
    "We will construct two data sets: one based on the top ten features discovered in <b>Chapter 1</b> via random forests, and one based on the most \"useless\" features discored via Logistic Regression. Education will be added to both data sets."
   ]
  },
  {
   "cell_type": "code",
   "execution_count": 6,
   "metadata": {
    "collapsed": false
   },
   "outputs": [],
   "source": [
    "important_cols = ['capital_gains',\n",
    "                  'detailed_occupation_code',\n",
    "                  'dividends',\n",
    "                  'sex',\n",
    "                  'major_occupation_code',\n",
    "                  'capital_losses',\n",
    "                  'weeks_worked_in_year',\n",
    "                  'age',\n",
    "                  'num_persons_worked_for_employer',\n",
    "                  'savings']\n",
    "\n",
    "important_data = pd.DataFrame(raw_data[important_cols])\n",
    "\n",
    "unique_occ_values = important_data['major_occupation_code'].unique()\n",
    "mapping = {key:idx for idx,key in enumerate(unique_occ_values)}\n",
    "important_data['major_occupation_code'] = important_data['major_occupation_code'].apply(lambda x : mapping[x])\n",
    "\n"
   ]
  },
  {
   "cell_type": "code",
   "execution_count": 7,
   "metadata": {
    "collapsed": false
   },
   "outputs": [],
   "source": [
    "useless_cols = ['detailed_household_family_stat', \n",
    "                'cob_father', \n",
    "                'cob_self', \n",
    "                'cob_mother', \n",
    "                'migration_code_move_within_reg',\n",
    "                'migration_code_change_in_reg', \n",
    "                'migration_code_change_in_msa',\n",
    "                'migration_prev_res_in_sunbelt',\n",
    "                'state_of_previous_residence',\n",
    "                'year']\n",
    "\n",
    "useless_data = pd.DataFrame(raw_data[useless_cols])\n",
    "useless_data['savings'] = raw_data['savings']\n",
    "for col in useless_cols:\n",
    "    unique_vals = useless_data[col].unique()\n",
    "    mapping = {key:idx for idx,key in enumerate(unique_vals)}\n",
    "    useless_data[col] = useless_data[col].apply(lambda x : mapping[x])\n"
   ]
  },
  {
   "cell_type": "markdown",
   "metadata": {},
   "source": [
    "## 2. Convert Education to Integer"
   ]
  },
  {
   "cell_type": "code",
   "execution_count": 8,
   "metadata": {
    "collapsed": false
   },
   "outputs": [
    {
     "name": "stdout",
     "output_type": "stream",
     "text": [
      "\n",
      "Here are the distinct values in education along with their counts:\n",
      "\n",
      " High school graduate                      43642\n",
      " Some college but no degree                26329\n",
      " Bachelors degree(BA AB BS)                19391\n",
      " Children                                  12710\n",
      " 10th grade                                 6487\n",
      " Masters degree(MA MS MEng MEd MSW MBA)     6460\n",
      " 7th and 8th grade                          6309\n",
      " 11th grade                                 6213\n",
      " Associates degree-occup /vocational        5249\n",
      " 9th grade                                  4976\n",
      " Associates degree-academic program         4322\n",
      " 5th or 6th grade                           3139\n",
      " 12th grade no diploma                      2059\n",
      " Prof school degree (MD DDS DVM LLB JD)     1791\n",
      " 1st 2nd 3rd or 4th grade                   1755\n",
      " Doctorate degree(PhD EdD)                  1262\n",
      " Less than 1st grade                         802\n",
      "Name: education, dtype: int64\n"
     ]
    }
   ],
   "source": [
    "print '\\nHere are the distinct values in education along with their counts:\\n'\n",
    "print raw_data['education'].value_counts()"
   ]
  },
  {
   "cell_type": "markdown",
   "metadata": {},
   "source": [
    "### Convert Education to Integer without Ranking\n",
    "We use the same approach as in Chapter 2 to convert nominal columns to integers. The mapping depends on the order in which the pandas ***unique*** method outputs the distinct classes in a column.  The resulting mapping is displayed, which shows that ranking is ignored. For example, the first three values in ascending order are \"<b><i>High school graduate</b></i>\", \"<b><i>Some College but no degree</b></i>\", and \"<b><i>10th grade</b></i>\"."
   ]
  },
  {
   "cell_type": "code",
   "execution_count": 9,
   "metadata": {
    "collapsed": false
   },
   "outputs": [],
   "source": [
    "unique_edu_values = raw_data['education'].unique()\n",
    "mapping = {key:idx for idx,key in enumerate(unique_edu_values)}\n",
    "\n",
    "important_data['education'] = raw_data['education'].apply(lambda x : mapping[x])\n",
    "useless_data['education'] = raw_data['education'].apply(lambda x : mapping[x])"
   ]
  },
  {
   "cell_type": "code",
   "execution_count": 10,
   "metadata": {
    "collapsed": false
   },
   "outputs": [
    {
     "name": "stdout",
     "output_type": "stream",
     "text": [
      " 1st 2nd 3rd or 4th grade                : 16\n",
      " 12th grade no diploma                   : 9\n",
      " Less than 1st grade                     : 6\n",
      " Some college but no degree              : 1\n",
      " Masters degree(MA MS MEng MEd MSW MBA)  : 5\n",
      " 7th and 8th grade                       : 8\n",
      " 11th grade                              : 13\n",
      " Bachelors degree(BA AB BS)              : 4\n",
      " Prof school degree (MD DDS DVM LLB JD)  : 11\n",
      " 9th grade                               : 15\n",
      " 5th or 6th grade                        : 12\n",
      " Doctorate degree(PhD EdD)               : 14\n",
      " Associates degree-occup /vocational     : 10\n",
      " High school graduate                    : 0\n",
      " Children                                : 3\n",
      " 10th grade                              : 2\n",
      " Associates degree-academic program      : 7\n"
     ]
    }
   ],
   "source": [
    "for k,v in mapping.iteritems():\n",
    "    print '{:<40s} : {:d}'.format(k,v)"
   ]
  },
  {
   "cell_type": "markdown",
   "metadata": {},
   "source": [
    "### Convert Education to Integer with Ranking\n",
    "The conversion for the ranked case is carried out using the ranked mapping defined below."
   ]
  },
  {
   "cell_type": "code",
   "execution_count": 11,
   "metadata": {
    "collapsed": true
   },
   "outputs": [],
   "source": [
    "ranked_map = {\n",
    "'Children'                                : 0,\n",
    "'Less than 1st grade'                     : 1,\n",
    "'1st 2nd 3rd or 4th grade'                : 2,\n",
    "'5th or 6th grade'                        : 3,\n",
    "'7th and 8th grade'                       : 4,\n",
    "'9th grade'                               : 5,\n",
    "'10th grade'                              : 6,\n",
    "'11th grade'                              : 7,\n",
    "'12th grade no diploma'                   : 8,\n",
    "'High school graduate'                    : 9,\n",
    "'Associates degree-occup /vocational'     : 10,\n",
    "'Associates degree-academic program'      : 11,\n",
    "'Some college but no degree'              : 12,\n",
    "'Bachelors degree(BA AB BS)'              : 13,\n",
    "'Masters degree(MA MS MEng MEd MSW MBA)'  : 14,\n",
    "'Prof school degree (MD DDS DVM LLB JD)'  : 15,\n",
    "'Doctorate degree(PhD EdD)'               : 16}\n"
   ]
  },
  {
   "cell_type": "code",
   "execution_count": 12,
   "metadata": {
    "collapsed": false
   },
   "outputs": [],
   "source": [
    "important_data['education_ranked'] = raw_data['education'].apply(lambda x : ranked_map[x.strip()])\n",
    "useless_data['education_ranked'] = raw_data['education'].apply(lambda x : ranked_map[x.strip()])"
   ]
  },
  {
   "cell_type": "markdown",
   "metadata": {},
   "source": [
    "The first 16 rows (transposed) of each data set are displayed below."
   ]
  },
  {
   "cell_type": "code",
   "execution_count": 13,
   "metadata": {
    "collapsed": false
   },
   "outputs": [
    {
     "data": {
      "text/html": [
       "<div>\n",
       "<table border=\"1\" class=\"dataframe\">\n",
       "  <thead>\n",
       "    <tr style=\"text-align: right;\">\n",
       "      <th></th>\n",
       "      <th>0</th>\n",
       "      <th>1</th>\n",
       "      <th>2</th>\n",
       "      <th>3</th>\n",
       "      <th>4</th>\n",
       "      <th>5</th>\n",
       "      <th>6</th>\n",
       "      <th>7</th>\n",
       "      <th>8</th>\n",
       "      <th>9</th>\n",
       "      <th>10</th>\n",
       "      <th>11</th>\n",
       "      <th>12</th>\n",
       "      <th>13</th>\n",
       "      <th>14</th>\n",
       "      <th>15</th>\n",
       "    </tr>\n",
       "  </thead>\n",
       "  <tbody>\n",
       "    <tr>\n",
       "      <th>capital_gains</th>\n",
       "      <td>0</td>\n",
       "      <td>0</td>\n",
       "      <td>0</td>\n",
       "      <td>0</td>\n",
       "      <td>0</td>\n",
       "      <td>0</td>\n",
       "      <td>5178</td>\n",
       "      <td>0</td>\n",
       "      <td>0</td>\n",
       "      <td>0</td>\n",
       "      <td>0</td>\n",
       "      <td>0</td>\n",
       "      <td>0</td>\n",
       "      <td>0</td>\n",
       "      <td>0</td>\n",
       "      <td>0</td>\n",
       "    </tr>\n",
       "    <tr>\n",
       "      <th>detailed_occupation_code</th>\n",
       "      <td>0</td>\n",
       "      <td>34</td>\n",
       "      <td>0</td>\n",
       "      <td>0</td>\n",
       "      <td>0</td>\n",
       "      <td>10</td>\n",
       "      <td>3</td>\n",
       "      <td>40</td>\n",
       "      <td>26</td>\n",
       "      <td>37</td>\n",
       "      <td>0</td>\n",
       "      <td>0</td>\n",
       "      <td>34</td>\n",
       "      <td>31</td>\n",
       "      <td>12</td>\n",
       "      <td>0</td>\n",
       "    </tr>\n",
       "    <tr>\n",
       "      <th>dividends</th>\n",
       "      <td>0</td>\n",
       "      <td>0</td>\n",
       "      <td>0</td>\n",
       "      <td>0</td>\n",
       "      <td>0</td>\n",
       "      <td>0</td>\n",
       "      <td>0</td>\n",
       "      <td>0</td>\n",
       "      <td>0</td>\n",
       "      <td>0</td>\n",
       "      <td>0</td>\n",
       "      <td>0</td>\n",
       "      <td>0</td>\n",
       "      <td>0</td>\n",
       "      <td>0</td>\n",
       "      <td>0</td>\n",
       "    </tr>\n",
       "    <tr>\n",
       "      <th>sex</th>\n",
       "      <td>0</td>\n",
       "      <td>1</td>\n",
       "      <td>0</td>\n",
       "      <td>0</td>\n",
       "      <td>0</td>\n",
       "      <td>0</td>\n",
       "      <td>1</td>\n",
       "      <td>0</td>\n",
       "      <td>0</td>\n",
       "      <td>1</td>\n",
       "      <td>0</td>\n",
       "      <td>0</td>\n",
       "      <td>1</td>\n",
       "      <td>0</td>\n",
       "      <td>0</td>\n",
       "      <td>0</td>\n",
       "    </tr>\n",
       "    <tr>\n",
       "      <th>major_occupation_code</th>\n",
       "      <td>0</td>\n",
       "      <td>1</td>\n",
       "      <td>0</td>\n",
       "      <td>0</td>\n",
       "      <td>0</td>\n",
       "      <td>2</td>\n",
       "      <td>3</td>\n",
       "      <td>4</td>\n",
       "      <td>5</td>\n",
       "      <td>6</td>\n",
       "      <td>0</td>\n",
       "      <td>0</td>\n",
       "      <td>1</td>\n",
       "      <td>7</td>\n",
       "      <td>2</td>\n",
       "      <td>0</td>\n",
       "    </tr>\n",
       "    <tr>\n",
       "      <th>capital_losses</th>\n",
       "      <td>0</td>\n",
       "      <td>0</td>\n",
       "      <td>0</td>\n",
       "      <td>0</td>\n",
       "      <td>0</td>\n",
       "      <td>0</td>\n",
       "      <td>0</td>\n",
       "      <td>0</td>\n",
       "      <td>0</td>\n",
       "      <td>0</td>\n",
       "      <td>0</td>\n",
       "      <td>0</td>\n",
       "      <td>0</td>\n",
       "      <td>1590</td>\n",
       "      <td>0</td>\n",
       "      <td>0</td>\n",
       "    </tr>\n",
       "    <tr>\n",
       "      <th>weeks_worked_in_year</th>\n",
       "      <td>0</td>\n",
       "      <td>52</td>\n",
       "      <td>0</td>\n",
       "      <td>0</td>\n",
       "      <td>0</td>\n",
       "      <td>52</td>\n",
       "      <td>52</td>\n",
       "      <td>30</td>\n",
       "      <td>52</td>\n",
       "      <td>52</td>\n",
       "      <td>0</td>\n",
       "      <td>0</td>\n",
       "      <td>52</td>\n",
       "      <td>52</td>\n",
       "      <td>52</td>\n",
       "      <td>0</td>\n",
       "    </tr>\n",
       "    <tr>\n",
       "      <th>age</th>\n",
       "      <td>73</td>\n",
       "      <td>58</td>\n",
       "      <td>18</td>\n",
       "      <td>9</td>\n",
       "      <td>10</td>\n",
       "      <td>48</td>\n",
       "      <td>42</td>\n",
       "      <td>28</td>\n",
       "      <td>47</td>\n",
       "      <td>34</td>\n",
       "      <td>8</td>\n",
       "      <td>32</td>\n",
       "      <td>51</td>\n",
       "      <td>46</td>\n",
       "      <td>26</td>\n",
       "      <td>13</td>\n",
       "    </tr>\n",
       "    <tr>\n",
       "      <th>num_persons_worked_for_employer</th>\n",
       "      <td>0</td>\n",
       "      <td>1</td>\n",
       "      <td>0</td>\n",
       "      <td>0</td>\n",
       "      <td>0</td>\n",
       "      <td>1</td>\n",
       "      <td>6</td>\n",
       "      <td>4</td>\n",
       "      <td>5</td>\n",
       "      <td>6</td>\n",
       "      <td>0</td>\n",
       "      <td>0</td>\n",
       "      <td>3</td>\n",
       "      <td>6</td>\n",
       "      <td>6</td>\n",
       "      <td>0</td>\n",
       "    </tr>\n",
       "    <tr>\n",
       "      <th>savings</th>\n",
       "      <td>0</td>\n",
       "      <td>0</td>\n",
       "      <td>0</td>\n",
       "      <td>0</td>\n",
       "      <td>0</td>\n",
       "      <td>0</td>\n",
       "      <td>0</td>\n",
       "      <td>0</td>\n",
       "      <td>0</td>\n",
       "      <td>0</td>\n",
       "      <td>0</td>\n",
       "      <td>0</td>\n",
       "      <td>0</td>\n",
       "      <td>0</td>\n",
       "      <td>0</td>\n",
       "      <td>0</td>\n",
       "    </tr>\n",
       "    <tr>\n",
       "      <th>education</th>\n",
       "      <td>0</td>\n",
       "      <td>1</td>\n",
       "      <td>2</td>\n",
       "      <td>3</td>\n",
       "      <td>3</td>\n",
       "      <td>1</td>\n",
       "      <td>4</td>\n",
       "      <td>0</td>\n",
       "      <td>1</td>\n",
       "      <td>1</td>\n",
       "      <td>3</td>\n",
       "      <td>0</td>\n",
       "      <td>1</td>\n",
       "      <td>0</td>\n",
       "      <td>4</td>\n",
       "      <td>3</td>\n",
       "    </tr>\n",
       "    <tr>\n",
       "      <th>education_ranked</th>\n",
       "      <td>9</td>\n",
       "      <td>12</td>\n",
       "      <td>6</td>\n",
       "      <td>0</td>\n",
       "      <td>0</td>\n",
       "      <td>12</td>\n",
       "      <td>13</td>\n",
       "      <td>9</td>\n",
       "      <td>12</td>\n",
       "      <td>12</td>\n",
       "      <td>0</td>\n",
       "      <td>9</td>\n",
       "      <td>12</td>\n",
       "      <td>9</td>\n",
       "      <td>13</td>\n",
       "      <td>0</td>\n",
       "    </tr>\n",
       "  </tbody>\n",
       "</table>\n",
       "</div>"
      ],
      "text/plain": [
       "                                 0   1   2   3   4   5     6   7   8   9   10  \\\n",
       "capital_gains                     0   0   0   0   0   0  5178   0   0   0   0   \n",
       "detailed_occupation_code          0  34   0   0   0  10     3  40  26  37   0   \n",
       "dividends                         0   0   0   0   0   0     0   0   0   0   0   \n",
       "sex                               0   1   0   0   0   0     1   0   0   1   0   \n",
       "major_occupation_code             0   1   0   0   0   2     3   4   5   6   0   \n",
       "capital_losses                    0   0   0   0   0   0     0   0   0   0   0   \n",
       "weeks_worked_in_year              0  52   0   0   0  52    52  30  52  52   0   \n",
       "age                              73  58  18   9  10  48    42  28  47  34   8   \n",
       "num_persons_worked_for_employer   0   1   0   0   0   1     6   4   5   6   0   \n",
       "savings                           0   0   0   0   0   0     0   0   0   0   0   \n",
       "education                         0   1   2   3   3   1     4   0   1   1   3   \n",
       "education_ranked                  9  12   6   0   0  12    13   9  12  12   0   \n",
       "\n",
       "                                 11  12    13  14  15  \n",
       "capital_gains                     0   0     0   0   0  \n",
       "detailed_occupation_code          0  34    31  12   0  \n",
       "dividends                         0   0     0   0   0  \n",
       "sex                               0   1     0   0   0  \n",
       "major_occupation_code             0   1     7   2   0  \n",
       "capital_losses                    0   0  1590   0   0  \n",
       "weeks_worked_in_year              0  52    52  52   0  \n",
       "age                              32  51    46  26  13  \n",
       "num_persons_worked_for_employer   0   3     6   6   0  \n",
       "savings                           0   0     0   0   0  \n",
       "education                         0   1     0   4   3  \n",
       "education_ranked                  9  12     9  13   0  "
      ]
     },
     "execution_count": 13,
     "metadata": {},
     "output_type": "execute_result"
    }
   ],
   "source": [
    "important_data.head(16).transpose()"
   ]
  },
  {
   "cell_type": "code",
   "execution_count": 14,
   "metadata": {
    "collapsed": false
   },
   "outputs": [
    {
     "data": {
      "text/html": [
       "<div>\n",
       "<table border=\"1\" class=\"dataframe\">\n",
       "  <thead>\n",
       "    <tr style=\"text-align: right;\">\n",
       "      <th></th>\n",
       "      <th>0</th>\n",
       "      <th>1</th>\n",
       "      <th>2</th>\n",
       "      <th>3</th>\n",
       "      <th>4</th>\n",
       "      <th>5</th>\n",
       "      <th>6</th>\n",
       "      <th>7</th>\n",
       "      <th>8</th>\n",
       "      <th>9</th>\n",
       "      <th>10</th>\n",
       "      <th>11</th>\n",
       "      <th>12</th>\n",
       "      <th>13</th>\n",
       "      <th>14</th>\n",
       "      <th>15</th>\n",
       "    </tr>\n",
       "  </thead>\n",
       "  <tbody>\n",
       "    <tr>\n",
       "      <th>detailed_household_family_stat</th>\n",
       "      <td>0</td>\n",
       "      <td>1</td>\n",
       "      <td>2</td>\n",
       "      <td>3</td>\n",
       "      <td>3</td>\n",
       "      <td>4</td>\n",
       "      <td>1</td>\n",
       "      <td>5</td>\n",
       "      <td>4</td>\n",
       "      <td>1</td>\n",
       "      <td>3</td>\n",
       "      <td>6</td>\n",
       "      <td>1</td>\n",
       "      <td>1</td>\n",
       "      <td>7</td>\n",
       "      <td>3</td>\n",
       "    </tr>\n",
       "    <tr>\n",
       "      <th>cob_father</th>\n",
       "      <td>0</td>\n",
       "      <td>0</td>\n",
       "      <td>1</td>\n",
       "      <td>0</td>\n",
       "      <td>0</td>\n",
       "      <td>2</td>\n",
       "      <td>0</td>\n",
       "      <td>0</td>\n",
       "      <td>0</td>\n",
       "      <td>0</td>\n",
       "      <td>0</td>\n",
       "      <td>3</td>\n",
       "      <td>0</td>\n",
       "      <td>4</td>\n",
       "      <td>0</td>\n",
       "      <td>0</td>\n",
       "    </tr>\n",
       "    <tr>\n",
       "      <th>cob_self</th>\n",
       "      <td>0</td>\n",
       "      <td>0</td>\n",
       "      <td>1</td>\n",
       "      <td>0</td>\n",
       "      <td>0</td>\n",
       "      <td>0</td>\n",
       "      <td>0</td>\n",
       "      <td>0</td>\n",
       "      <td>0</td>\n",
       "      <td>0</td>\n",
       "      <td>0</td>\n",
       "      <td>2</td>\n",
       "      <td>0</td>\n",
       "      <td>3</td>\n",
       "      <td>0</td>\n",
       "      <td>0</td>\n",
       "    </tr>\n",
       "    <tr>\n",
       "      <th>cob_mother</th>\n",
       "      <td>0</td>\n",
       "      <td>0</td>\n",
       "      <td>1</td>\n",
       "      <td>0</td>\n",
       "      <td>0</td>\n",
       "      <td>0</td>\n",
       "      <td>0</td>\n",
       "      <td>0</td>\n",
       "      <td>0</td>\n",
       "      <td>0</td>\n",
       "      <td>0</td>\n",
       "      <td>2</td>\n",
       "      <td>0</td>\n",
       "      <td>3</td>\n",
       "      <td>0</td>\n",
       "      <td>0</td>\n",
       "    </tr>\n",
       "    <tr>\n",
       "      <th>migration_code_move_within_reg</th>\n",
       "      <td>0</td>\n",
       "      <td>1</td>\n",
       "      <td>0</td>\n",
       "      <td>2</td>\n",
       "      <td>2</td>\n",
       "      <td>0</td>\n",
       "      <td>2</td>\n",
       "      <td>0</td>\n",
       "      <td>0</td>\n",
       "      <td>2</td>\n",
       "      <td>2</td>\n",
       "      <td>0</td>\n",
       "      <td>2</td>\n",
       "      <td>2</td>\n",
       "      <td>0</td>\n",
       "      <td>2</td>\n",
       "    </tr>\n",
       "    <tr>\n",
       "      <th>migration_code_change_in_reg</th>\n",
       "      <td>0</td>\n",
       "      <td>1</td>\n",
       "      <td>0</td>\n",
       "      <td>2</td>\n",
       "      <td>2</td>\n",
       "      <td>0</td>\n",
       "      <td>2</td>\n",
       "      <td>0</td>\n",
       "      <td>0</td>\n",
       "      <td>2</td>\n",
       "      <td>2</td>\n",
       "      <td>0</td>\n",
       "      <td>2</td>\n",
       "      <td>2</td>\n",
       "      <td>0</td>\n",
       "      <td>2</td>\n",
       "    </tr>\n",
       "    <tr>\n",
       "      <th>migration_code_change_in_msa</th>\n",
       "      <td>0</td>\n",
       "      <td>1</td>\n",
       "      <td>0</td>\n",
       "      <td>2</td>\n",
       "      <td>2</td>\n",
       "      <td>0</td>\n",
       "      <td>2</td>\n",
       "      <td>0</td>\n",
       "      <td>0</td>\n",
       "      <td>2</td>\n",
       "      <td>2</td>\n",
       "      <td>0</td>\n",
       "      <td>2</td>\n",
       "      <td>2</td>\n",
       "      <td>0</td>\n",
       "      <td>2</td>\n",
       "    </tr>\n",
       "    <tr>\n",
       "      <th>migration_prev_res_in_sunbelt</th>\n",
       "      <td>0</td>\n",
       "      <td>1</td>\n",
       "      <td>0</td>\n",
       "      <td>2</td>\n",
       "      <td>2</td>\n",
       "      <td>0</td>\n",
       "      <td>2</td>\n",
       "      <td>0</td>\n",
       "      <td>0</td>\n",
       "      <td>2</td>\n",
       "      <td>2</td>\n",
       "      <td>0</td>\n",
       "      <td>2</td>\n",
       "      <td>2</td>\n",
       "      <td>0</td>\n",
       "      <td>2</td>\n",
       "    </tr>\n",
       "    <tr>\n",
       "      <th>state_of_previous_residence</th>\n",
       "      <td>0</td>\n",
       "      <td>1</td>\n",
       "      <td>0</td>\n",
       "      <td>0</td>\n",
       "      <td>0</td>\n",
       "      <td>0</td>\n",
       "      <td>0</td>\n",
       "      <td>0</td>\n",
       "      <td>0</td>\n",
       "      <td>0</td>\n",
       "      <td>0</td>\n",
       "      <td>0</td>\n",
       "      <td>0</td>\n",
       "      <td>0</td>\n",
       "      <td>0</td>\n",
       "      <td>0</td>\n",
       "    </tr>\n",
       "    <tr>\n",
       "      <th>year</th>\n",
       "      <td>0</td>\n",
       "      <td>1</td>\n",
       "      <td>0</td>\n",
       "      <td>1</td>\n",
       "      <td>1</td>\n",
       "      <td>0</td>\n",
       "      <td>1</td>\n",
       "      <td>0</td>\n",
       "      <td>0</td>\n",
       "      <td>1</td>\n",
       "      <td>1</td>\n",
       "      <td>0</td>\n",
       "      <td>1</td>\n",
       "      <td>1</td>\n",
       "      <td>0</td>\n",
       "      <td>1</td>\n",
       "    </tr>\n",
       "    <tr>\n",
       "      <th>savings</th>\n",
       "      <td>0</td>\n",
       "      <td>0</td>\n",
       "      <td>0</td>\n",
       "      <td>0</td>\n",
       "      <td>0</td>\n",
       "      <td>0</td>\n",
       "      <td>0</td>\n",
       "      <td>0</td>\n",
       "      <td>0</td>\n",
       "      <td>0</td>\n",
       "      <td>0</td>\n",
       "      <td>0</td>\n",
       "      <td>0</td>\n",
       "      <td>0</td>\n",
       "      <td>0</td>\n",
       "      <td>0</td>\n",
       "    </tr>\n",
       "    <tr>\n",
       "      <th>education</th>\n",
       "      <td>0</td>\n",
       "      <td>1</td>\n",
       "      <td>2</td>\n",
       "      <td>3</td>\n",
       "      <td>3</td>\n",
       "      <td>1</td>\n",
       "      <td>4</td>\n",
       "      <td>0</td>\n",
       "      <td>1</td>\n",
       "      <td>1</td>\n",
       "      <td>3</td>\n",
       "      <td>0</td>\n",
       "      <td>1</td>\n",
       "      <td>0</td>\n",
       "      <td>4</td>\n",
       "      <td>3</td>\n",
       "    </tr>\n",
       "    <tr>\n",
       "      <th>education_ranked</th>\n",
       "      <td>9</td>\n",
       "      <td>12</td>\n",
       "      <td>6</td>\n",
       "      <td>0</td>\n",
       "      <td>0</td>\n",
       "      <td>12</td>\n",
       "      <td>13</td>\n",
       "      <td>9</td>\n",
       "      <td>12</td>\n",
       "      <td>12</td>\n",
       "      <td>0</td>\n",
       "      <td>9</td>\n",
       "      <td>12</td>\n",
       "      <td>9</td>\n",
       "      <td>13</td>\n",
       "      <td>0</td>\n",
       "    </tr>\n",
       "  </tbody>\n",
       "</table>\n",
       "</div>"
      ],
      "text/plain": [
       "                                0   1   2   3   4   5   6   7   8   9   10  \\\n",
       "detailed_household_family_stat   0   1   2   3   3   4   1   5   4   1   3   \n",
       "cob_father                       0   0   1   0   0   2   0   0   0   0   0   \n",
       "cob_self                         0   0   1   0   0   0   0   0   0   0   0   \n",
       "cob_mother                       0   0   1   0   0   0   0   0   0   0   0   \n",
       "migration_code_move_within_reg   0   1   0   2   2   0   2   0   0   2   2   \n",
       "migration_code_change_in_reg     0   1   0   2   2   0   2   0   0   2   2   \n",
       "migration_code_change_in_msa     0   1   0   2   2   0   2   0   0   2   2   \n",
       "migration_prev_res_in_sunbelt    0   1   0   2   2   0   2   0   0   2   2   \n",
       "state_of_previous_residence      0   1   0   0   0   0   0   0   0   0   0   \n",
       "year                             0   1   0   1   1   0   1   0   0   1   1   \n",
       "savings                          0   0   0   0   0   0   0   0   0   0   0   \n",
       "education                        0   1   2   3   3   1   4   0   1   1   3   \n",
       "education_ranked                 9  12   6   0   0  12  13   9  12  12   0   \n",
       "\n",
       "                                11  12  13  14  15  \n",
       "detailed_household_family_stat   6   1   1   7   3  \n",
       "cob_father                       3   0   4   0   0  \n",
       "cob_self                         2   0   3   0   0  \n",
       "cob_mother                       2   0   3   0   0  \n",
       "migration_code_move_within_reg   0   2   2   0   2  \n",
       "migration_code_change_in_reg     0   2   2   0   2  \n",
       "migration_code_change_in_msa     0   2   2   0   2  \n",
       "migration_prev_res_in_sunbelt    0   2   2   0   2  \n",
       "state_of_previous_residence      0   0   0   0   0  \n",
       "year                             0   1   1   0   1  \n",
       "savings                          0   0   0   0   0  \n",
       "education                        0   1   0   4   3  \n",
       "education_ranked                 9  12   9  13   0  "
      ]
     },
     "execution_count": 14,
     "metadata": {},
     "output_type": "execute_result"
    }
   ],
   "source": [
    "useless_data.head(16).transpose()"
   ]
  },
  {
   "cell_type": "markdown",
   "metadata": {},
   "source": [
    "## 3. Classification Using Random Forest"
   ]
  },
  {
   "cell_type": "code",
   "execution_count": 15,
   "metadata": {
    "collapsed": true
   },
   "outputs": [],
   "source": [
    "def print_confusion_matrix(y_true, y_pred):\n",
    "    # print confusion matrix\n",
    "    header = '\\t          prediction 0    prediction 1'\n",
    "    row0 =   '\\tclass 0 {:11,d} {:14,d}'\n",
    "    row1 =   '\\tclass 1 {:11,d} {:14,d}'\n",
    "    cm = confusion_matrix(y_true, y_pred)\n",
    "    print header\n",
    "    print row0.format(cm[0,0], cm[0,1])\n",
    "    print row1.format(cm[1,0], cm[1,1])\n",
    "    tp, fn = float(cm[0,0]), float(cm[0,1])\n",
    "    fp, tn = float(cm[1,0]), float(cm[1,1])\n"
   ]
  },
  {
   "cell_type": "code",
   "execution_count": 16,
   "metadata": {
    "collapsed": true
   },
   "outputs": [],
   "source": [
    "def run_grid_search(classifier, parameters, X_train, y_train, X_test, y_test,\n",
    "                    score=None, print_grid_scores=False, verbose=0, n_jobs=1):\n",
    "    '''\n",
    "    input: \n",
    "      classifier: scikit-learn classifier, \n",
    "      parameters: parameters for grid search, \n",
    "      X_train, y_train: the cross-validation training sets,\n",
    "      X_test, y_test: the corss-validation test sets, \n",
    "      score: (None) the scoring function (eg accuracy, precision, recall, ...),\n",
    "      print_grid_scores: (False)boolean to print the grid scores from the grid-search\n",
    "      verbose: (None) passed to the scikit-learn grid search\n",
    "      n_jobs: (1) the number of jobs for parallel processing\n",
    "    return: \n",
    "      the best fit scikit-learn classifier from gridsearch\n",
    "    \n",
    "    Run a grid search with cross-validation on the training data set for the given\n",
    "    classifier, for the given range of parameters, and for the given scoring method.\n",
    "    \n",
    "    Print the confusion matrix and classification report for the test set.\n",
    "    '''\n",
    "    \n",
    "    clf = GridSearchCV(classifier, parameters, scoring=score, \n",
    "                       verbose=verbose, cv=5, n_jobs=n_jobs)\n",
    "    \n",
    "    clf.fit(X_train, y_train)\n",
    "    y_pred = clf.predict(X_test)\n",
    "    \n",
    "    print 'Best parameters on training set:'\n",
    "    print clf.best_params_\n",
    "    print '\\nBest score = {:.4f}'.format(clf.best_score_)\n",
    "    if print_grid_scores:\n",
    "        print '\\nGrid scores on training set:\\n'\n",
    "        for params, mean_score, scores in clf.grid_scores_:\n",
    "            print(\"%0.4f (+/-%0.04f) for %r\"\n",
    "                  % (mean_score, scores.std() * 2, params))\n",
    "    print\n",
    "    print 'Confusion matrix:'\n",
    "    print_confusion_matrix(y_test, y_pred)\n",
    "    print '\\nClassification report:'\n",
    "    print classification_report(y_test, y_pred, digits=5)\n",
    "    return clf"
   ]
  },
  {
   "cell_type": "code",
   "execution_count": 17,
   "metadata": {
    "collapsed": true
   },
   "outputs": [],
   "source": [
    "parameters = {'n_estimators': [80, 160], \n",
    "                 'max_depth': [4, 8, 16, 32]}"
   ]
  },
  {
   "cell_type": "code",
   "execution_count": 18,
   "metadata": {
    "collapsed": false
   },
   "outputs": [],
   "source": [
    "score = 'accuracy'"
   ]
  },
  {
   "cell_type": "markdown",
   "metadata": {},
   "source": [
    "### Important Data"
   ]
  },
  {
   "cell_type": "markdown",
   "metadata": {},
   "source": [
    "#### Unranked Education"
   ]
  },
  {
   "cell_type": "code",
   "execution_count": 19,
   "metadata": {
    "collapsed": false
   },
   "outputs": [
    {
     "name": "stdout",
     "output_type": "stream",
     "text": [
      "Fitting 5 folds for each of 8 candidates, totalling 40 fits\n",
      "Best parameters on training set:\n",
      "{'n_estimators': 160, 'max_depth': 16}\n",
      "\n",
      "Best score = 0.9411\n",
      "\n",
      "Confusion matrix:\n",
      "\t          prediction 0    prediction 1\n",
      "\tclass 0      41,627            588\n",
      "\tclass 1       2,126          1,528\n",
      "\n",
      "Classification report:\n",
      "             precision    recall  f1-score   support\n",
      "\n",
      "          0    0.95141   0.98607   0.96843     42215\n",
      "          1    0.72212   0.41817   0.52964      3654\n",
      "\n",
      "avg / total    0.93314   0.94083   0.93348     45869\n",
      "\n"
     ]
    },
    {
     "name": "stderr",
     "output_type": "stream",
     "text": [
      "[Parallel(n_jobs=2)]: Done  40 out of  40 | elapsed:  3.0min finished\n"
     ]
    }
   ],
   "source": [
    "X = important_data.drop(['education_ranked','savings'], axis=1)\n",
    "y = important_data.loc[:,'savings']\n",
    "\n",
    "X_train, X_test, y_train, y_test = train_test_split(X, y, test_size=0.3, random_state=1)\n",
    "\n",
    "rf = run_grid_search(RandomForestClassifier(), parameters,\n",
    "                     X_train, y_train, X_test, y_test,\n",
    "                     score=score, verbose=1, n_jobs=2)"
   ]
  },
  {
   "cell_type": "markdown",
   "metadata": {},
   "source": [
    "#### Ranked Education"
   ]
  },
  {
   "cell_type": "code",
   "execution_count": 20,
   "metadata": {
    "collapsed": false,
    "scrolled": true
   },
   "outputs": [
    {
     "name": "stdout",
     "output_type": "stream",
     "text": [
      "Fitting 5 folds for each of 8 candidates, totalling 40 fits\n",
      "Best parameters on training set:\n",
      "{'n_estimators': 160, 'max_depth': 16}\n",
      "\n",
      "Best score = 0.9414\n",
      "\n",
      "Confusion matrix:\n",
      "\t          prediction 0    prediction 1\n",
      "\tclass 0      41,600            615\n",
      "\tclass 1       2,080          1,574\n",
      "\n",
      "Classification report:\n",
      "             precision    recall  f1-score   support\n",
      "\n",
      "          0    0.95238   0.98543   0.96862     42215\n",
      "          1    0.71905   0.43076   0.53876      3654\n",
      "\n",
      "avg / total    0.93379   0.94125   0.93438     45869\n",
      "\n"
     ]
    },
    {
     "name": "stderr",
     "output_type": "stream",
     "text": [
      "[Parallel(n_jobs=2)]: Done  40 out of  40 | elapsed:  3.7min finished\n"
     ]
    }
   ],
   "source": [
    "X = important_data.drop(['education','savings'], axis=1)\n",
    "y = important_data.loc[:,'savings']\n",
    "\n",
    "X_train, X_test, y_train, y_test = train_test_split(X, y, test_size=0.3, random_state=1)\n",
    "\n",
    "rf = run_grid_search(RandomForestClassifier(), parameters, \n",
    "                     X_train, y_train, X_test, y_test,\n",
    "                     score=score, verbose=1, n_jobs=2)"
   ]
  },
  {
   "cell_type": "markdown",
   "metadata": {},
   "source": [
    "### Useless Data"
   ]
  },
  {
   "cell_type": "markdown",
   "metadata": {},
   "source": [
    "#### Unranked Education"
   ]
  },
  {
   "cell_type": "code",
   "execution_count": 21,
   "metadata": {
    "collapsed": false
   },
   "outputs": [
    {
     "name": "stdout",
     "output_type": "stream",
     "text": [
      "Fitting 5 folds for each of 8 candidates, totalling 40 fits\n",
      "Best parameters on training set:\n",
      "{'n_estimators': 160, 'max_depth': 16}\n",
      "\n",
      "Best score = 0.9186\n",
      "\n",
      "Confusion matrix:\n",
      "\t          prediction 0    prediction 1\n",
      "\tclass 0      42,085            130\n",
      "\tclass 1       3,504            150\n",
      "\n",
      "Classification report:\n",
      "             precision    recall  f1-score   support\n",
      "\n",
      "          0    0.92314   0.99692   0.95861     42215\n",
      "          1    0.53571   0.04105   0.07626      3654\n",
      "\n",
      "avg / total    0.89228   0.92077   0.88832     45869\n",
      "\n"
     ]
    },
    {
     "name": "stderr",
     "output_type": "stream",
     "text": [
      "[Parallel(n_jobs=2)]: Done  40 out of  40 | elapsed:  3.0min finished\n"
     ]
    }
   ],
   "source": [
    "X = useless_data.drop(['education_ranked','savings'], axis=1)\n",
    "y = useless_data.loc[:,'savings']\n",
    "\n",
    "X_train, X_test, y_train, y_test = train_test_split(X, y, test_size=0.3, random_state=1)\n",
    "\n",
    "rf = run_grid_search(RandomForestClassifier(), parameters,\n",
    "                     X_train, y_train, X_test, y_test,\n",
    "                     score=score, verbose=1, n_jobs=2)"
   ]
  },
  {
   "cell_type": "markdown",
   "metadata": {},
   "source": [
    "#### Ranked Education"
   ]
  },
  {
   "cell_type": "code",
   "execution_count": 22,
   "metadata": {
    "collapsed": false
   },
   "outputs": [
    {
     "name": "stdout",
     "output_type": "stream",
     "text": [
      "Fitting 5 folds for each of 8 candidates, totalling 40 fits\n",
      "Best parameters on training set:\n",
      "{'n_estimators': 160, 'max_depth': 8}\n",
      "\n",
      "Best score = 0.9212\n",
      "\n",
      "Confusion matrix:\n",
      "\t          prediction 0    prediction 1\n",
      "\tclass 0      42,069            146\n",
      "\tclass 1       3,394            260\n",
      "\n",
      "Classification report:\n",
      "             precision    recall  f1-score   support\n",
      "\n",
      "          0    0.92535   0.99654   0.95962     42215\n",
      "          1    0.64039   0.07115   0.12808      3654\n",
      "\n",
      "avg / total    0.90265   0.92282   0.89338     45869\n",
      "\n"
     ]
    },
    {
     "name": "stderr",
     "output_type": "stream",
     "text": [
      "[Parallel(n_jobs=2)]: Done  40 out of  40 | elapsed:  2.7min finished\n"
     ]
    }
   ],
   "source": [
    "X = useless_data.drop(['education','savings'], axis=1)\n",
    "y = useless_data.loc[:,'savings']\n",
    "\n",
    "X_train, X_test, y_train, y_test = train_test_split(X, y, test_size=0.3, random_state=1)\n",
    "\n",
    "rf = run_grid_search(RandomForestClassifier(), parameters, \n",
    "                     X_train, y_train, X_test, y_test,\n",
    "                     score=score, verbose=1, n_jobs=2)"
   ]
  },
  {
   "cell_type": "markdown",
   "metadata": {},
   "source": [
    "### All Data"
   ]
  },
  {
   "cell_type": "code",
   "execution_count": 23,
   "metadata": {
    "collapsed": true
   },
   "outputs": [],
   "source": [
    "def convert_categorical_to_integer():\n",
    "    # create new DataFrame that contains columns of type object \n",
    "    data = pd.DataFrame(raw_data.select_dtypes(include=['object']))\n",
    "    columns = data.columns\n",
    "    \n",
    "    for column in columns:\n",
    "        if column == 'education':\n",
    "            continue\n",
    "        unique_values = data[column].unique()\n",
    "        dictionary = {key:idx for idx,key in enumerate(unique_values)}\n",
    "        data[column] = data[column].apply(lambda x : dictionary[x])\n",
    "\n",
    "    return data\n",
    " "
   ]
  },
  {
   "cell_type": "code",
   "execution_count": 24,
   "metadata": {
    "collapsed": false
   },
   "outputs": [
    {
     "name": "stdout",
     "output_type": "stream",
     "text": [
      "The final shape is: 152,896 x 41.\n",
      "\n"
     ]
    }
   ],
   "source": [
    "data = convert_categorical_to_integer()\n",
    "\n",
    "# add nominal columns that were already integer and didn't need to be converted\n",
    "nominal_integer_columns = [c[0] for c in the_columns \n",
    "                           if c[1] == 'nominal' \n",
    "                           and c[0] not in data.columns]\n",
    "data[nominal_integer_columns] = raw_data[nominal_integer_columns]\n",
    "\n",
    "# add 'sex' column\n",
    "data['sex'] = raw_data['sex']\n",
    "\n",
    "# add continuous columns\n",
    "continuous_columns = [c[0] for c in the_columns if c[1] == 'continuous']\n",
    "data[continuous_columns] = raw_data[continuous_columns]\n",
    "\n",
    "# add target (savings)\n",
    "data['savings'] = raw_data['savings']\n",
    "\n",
    "# verify that we aren't missing any columns\n",
    "assert set(data.columns) == (set(raw_data.columns))\n",
    "\n",
    "print 'The final shape is: {:,d} x {:d}.\\n'.format(data.shape[0], data.shape[1])"
   ]
  },
  {
   "cell_type": "markdown",
   "metadata": {},
   "source": [
    "### Random Forest for Unranked Education"
   ]
  },
  {
   "cell_type": "code",
   "execution_count": 25,
   "metadata": {
    "collapsed": false
   },
   "outputs": [
    {
     "name": "stdout",
     "output_type": "stream",
     "text": [
      "Fitting 5 folds for each of 8 candidates, totalling 40 fits\n",
      "Best parameters on training set:\n",
      "{'n_estimators': 160, 'max_depth': 32}\n",
      "\n",
      "Best score = 0.9408\n",
      "\n",
      "Confusion matrix:\n",
      "\t          prediction 0    prediction 1\n",
      "\tclass 0      41,626            589\n",
      "\tclass 1       2,097          1,557\n",
      "\n",
      "Classification report:\n",
      "             precision    recall  f1-score   support\n",
      "\n",
      "          0    0.95204   0.98605   0.96874     42215\n",
      "          1    0.72554   0.42611   0.53690      3654\n",
      "\n",
      "avg / total    0.93400   0.94144   0.93434     45869\n",
      "\n"
     ]
    },
    {
     "name": "stderr",
     "output_type": "stream",
     "text": [
      "[Parallel(n_jobs=2)]: Done  40 out of  40 | elapsed:  5.0min finished\n"
     ]
    }
   ],
   "source": [
    "unique_edu_values = raw_data['education'].unique()\n",
    "mapping = {key:idx for idx,key in enumerate(unique_edu_values)}\n",
    "\n",
    "data['education'] = raw_data['education'].apply(lambda x : mapping[x])\n",
    "\n",
    "X = data.drop('savings', axis=1)\n",
    "y = data.loc[:,'savings']\n",
    "\n",
    "X_train, X_test, y_train, y_test = train_test_split(X, y, test_size=0.3, random_state=1)\n",
    "\n",
    "rf = run_grid_search(RandomForestClassifier(), parameters, \n",
    "                     X_train, y_train, X_test, y_test,\n",
    "                     score=score, verbose=1, n_jobs=2)\n"
   ]
  },
  {
   "cell_type": "markdown",
   "metadata": {},
   "source": [
    "### Random Forest for Ranked Education"
   ]
  },
  {
   "cell_type": "code",
   "execution_count": 26,
   "metadata": {
    "collapsed": false
   },
   "outputs": [
    {
     "name": "stdout",
     "output_type": "stream",
     "text": [
      "Fitting 5 folds for each of 8 candidates, totalling 40 fits\n",
      "Best parameters on training set:\n",
      "{'n_estimators': 160, 'max_depth': 32}\n",
      "\n",
      "Best score = 0.9417\n",
      "\n",
      "Confusion matrix:\n",
      "\t          prediction 0    prediction 1\n",
      "\tclass 0      41,602            613\n",
      "\tclass 1       2,071          1,583\n",
      "\n",
      "Classification report:\n",
      "             precision    recall  f1-score   support\n",
      "\n",
      "          0    0.95258   0.98548   0.96875     42215\n",
      "          1    0.72086   0.43322   0.54120      3654\n",
      "\n",
      "avg / total    0.93412   0.94149   0.93469     45869\n",
      "\n"
     ]
    },
    {
     "name": "stderr",
     "output_type": "stream",
     "text": [
      "[Parallel(n_jobs=2)]: Done  40 out of  40 | elapsed:  4.9min finished\n"
     ]
    }
   ],
   "source": [
    "data['education'] = raw_data['education'].apply(lambda x : ranked_map[x.strip()])\n",
    "\n",
    "X = data.drop('savings', axis=1)\n",
    "y = data.loc[:,'savings']\n",
    "\n",
    "X_train, X_test, y_train, y_test = train_test_split(X, y, test_size=0.3, random_state=1)\n",
    "\n",
    "rf = run_grid_search(RandomForestClassifier(), parameters, \n",
    "                     X_train, y_train, X_test, y_test,\n",
    "                     score=score, verbose=1, n_jobs=2)\n"
   ]
  }
 ],
 "metadata": {
  "kernelspec": {
   "display_name": "Python 2",
   "language": "python",
   "name": "python2"
  },
  "language_info": {
   "codemirror_mode": {
    "name": "ipython",
    "version": 2
   },
   "file_extension": ".py",
   "mimetype": "text/x-python",
   "name": "python",
   "nbconvert_exporter": "python",
   "pygments_lexer": "ipython2",
   "version": "2.7.11"
  }
 },
 "nbformat": 4,
 "nbformat_minor": 0
}
